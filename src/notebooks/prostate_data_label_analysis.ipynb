{
 "cells": [
  {
   "cell_type": "code",
   "execution_count": null,
   "metadata": {},
   "outputs": [],
   "source": [
    "import pandas as pd\n",
    "import numpy as np"
   ]
  },
  {
   "cell_type": "code",
   "execution_count": null,
   "metadata": {},
   "outputs": [],
   "source": [
    "bgs = pd.read_excel('../../data/ProstateData/BREST GS.xlsx')\n",
    "\n",
    "#pd.set_option('display.max_rows', 200)\n",
    "print(\"bgs:\", bgs)"
   ]
  },
  {
   "cell_type": "code",
   "execution_count": null,
   "metadata": {},
   "outputs": [],
   "source": [
    "print(\"total number of patients:\", len(bgs))\n",
    "print(\"number of patients with biopsy GS:\", (~bgs[\"biopsy GS\"].isna()).sum())"
   ]
  },
  {
   "cell_type": "code",
   "execution_count": null,
   "metadata": {},
   "outputs": [],
   "source": [
    "# mapping GS to GGG and evaluating them\n",
    "gs_scores_to_groups = {\n",
    "    6: 1,\n",
    "    7: 2,\n",
    "    \"7b\": 3,\n",
    "    8: 4,\n",
    "    9: 5,\n",
    "    10: 5\n",
    "}\n",
    "bgs[\"GGG\"] = bgs[\"surgery GS\"].replace(gs_scores_to_groups)\n",
    "group_counts = bgs.groupby('GGG').count().sort_values(by=\"GGG\")\n",
    "group_counts[\"ID\"]"
   ]
  }
 ],
 "metadata": {
  "kernelspec": {
   "display_name": "Python 3 (ipykernel)",
   "language": "python",
   "name": "python3"
  },
  "language_info": {
   "codemirror_mode": {
    "name": "ipython",
    "version": 3
   },
   "file_extension": ".py",
   "mimetype": "text/x-python",
   "name": "python",
   "nbconvert_exporter": "python",
   "pygments_lexer": "ipython3",
   "version": "3.1.0"
  },
  "orig_nbformat": 4
 },
 "nbformat": 4,
 "nbformat_minor": 2
}
