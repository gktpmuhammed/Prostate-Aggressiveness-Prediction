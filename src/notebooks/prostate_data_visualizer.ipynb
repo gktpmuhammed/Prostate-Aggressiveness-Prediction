{
 "cells": [
  {
   "cell_type": "code",
   "execution_count": null,
   "id": "7144a4f2",
   "metadata": {},
   "outputs": [],
   "source": [
    "import os\n",
    "import pydicom\n",
    "import pandas as pd\n",
    "import matplotlib.pyplot as plt\n",
    "import numpy as np\n",
    "from ipywidgets import interactive, widgets, Layout, HBox, VBox, Label, Button\n",
    "from IPython.display import display, clear_output"
   ]
  },
  {
   "cell_type": "code",
   "execution_count": null,
   "id": "eaa4aa0c",
   "metadata": {},
   "outputs": [],
   "source": [
    "path_to_patient_dicomdir = \"../../data/ProstateData/BREST patients/BREST_001/DICOMDIR\"\n",
    "dicomdir = pydicom.dcmread(path_to_patient_dicomdir)"
   ]
  },
  {
   "cell_type": "code",
   "execution_count": null,
   "id": "8b416c22",
   "metadata": {},
   "outputs": [],
   "source": [
    "# Go through each patient (there should be only one)\n",
    "images_to_slide_over = []\n",
    "series_index_to_load = 0 # set here the series idx that you want to visualize (0 to 6 for patient 001)\n",
    "for patient in dicomdir.patient_records:\n",
    "\n",
    "    for study in patient.children:\n",
    "        for series in study.children:\n",
    "            desc = series.get('SeriesDescription')\n",
    "            print(\"desc:\", desc)\n",
    "\n",
    "            #if desc == \"Pelvis_t2_spc_rst_tra_p2_iso\":\n",
    "            if desc == \"Pelvis_t2_haste_fs_db_tra_p2_320\":\n",
    "                image_records = [img for img in series.children if img.DirectoryRecordType == \"IMAGE\"]\n",
    "                \n",
    "                for idx, image_record in enumerate(image_records):\n",
    "                    # Get the path to the image file using the reference in the DICOMDIR\n",
    "                    img_path = os.path.join(os.path.dirname(path_to_patient_dicomdir), os.path.join(*image_record.ReferencedFileID))\n",
    "                    \n",
    "                    # Read and display the image\n",
    "                    ds = pydicom.dcmread(img_path)\n",
    "\n",
    "                    if idx == 0:\n",
    "                        for elem in ds:\n",
    "                            print(elem)\n",
    "\n",
    "                    images_to_slide_over.append(ds.pixel_array)\n",
    "                    # plt.imshow(ds.pixel_array, cmap=plt.cm.bone)\n",
    "                    # plt.show()\n",
    "                \n",
    "                \"\"\"\n",
    "                for idx, image_record in enumerate(image_records):\n",
    "                    print(\"idx:\", idx)\n",
    "                    # Get the path to the image file using the reference in the DICOMDIR\n",
    "                    img_path = os.path.join(os.path.dirname('../../data/ProstateData/BREST patients/BREST_001/DICOMDIR'), os.path.join(*image_record.ReferencedFileID))\n",
    "                    \n",
    "                    # Read and display the image\n",
    "                    ds = pydicom.dcmread(img_path)\n",
    "                    plt.imshow(ds.pixel_array, cmap=plt.cm.bone)\n",
    "                    plt.show()\n",
    "\n",
    "                    #for elem in ds:\n",
    "                    #    print(elem)\n",
    "                \"\"\"\n"
   ]
  },
  {
   "cell_type": "code",
   "execution_count": null,
   "id": "fc45ca59",
   "metadata": {},
   "outputs": [],
   "source": [
    " # Function to plot an image from a list at a specified index\n",
    "def plot_image(list_of_images, image_idx):\n",
    "    plt.imshow(list_of_images[image_idx])\n",
    "    plt.axis('off')  # Turn off axis numbers\n",
    "    plt.show()\n",
    "\n",
    "# Function to get a slider widget\n",
    "def get_slider(max_value):\n",
    "    return widgets.IntSlider(\n",
    "        value=0,\n",
    "        min=0,\n",
    "        max=max_value,\n",
    "        step=1,\n",
    "        description='Image Index:',\n",
    "        continuous_update=False\n",
    "    )\n",
    "\n",
    "# Wrapper function to create an interactive plot with a list of images\n",
    "def create_interactive_plot(list_of_images):\n",
    "    slider = get_slider(len(list_of_images) - 1)\n",
    "    interactive_plot = interactive(plot_image, list_of_images=widgets.fixed(list_of_images), image_idx=slider)\n",
    "    display(interactive_plot)"
   ]
  },
  {
   "cell_type": "code",
   "execution_count": null,
   "id": "754b4e34",
   "metadata": {},
   "outputs": [],
   "source": [
    "create_interactive_plot(images_to_slide_over)"
   ]
  },
  {
   "cell_type": "markdown",
   "id": "59ffc221",
   "metadata": {},
   "source": [
    "# Search for segmentation masks"
   ]
  },
  {
   "cell_type": "code",
   "execution_count": null,
   "id": "8eabbfd9",
   "metadata": {},
   "outputs": [],
   "source": [
    "for record in dicomdir.DirectoryRecordSequence:\n",
    "    # Check if the record is for an image and has the correct SOP Class UID for segmentation\n",
    "    if record.DirectoryRecordType == \"IMAGE\" and record.get(\"ReferencedSOPClassUIDInFile\", \"\") == \"1.2.840.10008.5.1.4.1.1.66.4\":\n",
    "        segmentation_info = {\n",
    "            \"Patient ID\": record.get(\"PatientID\", \"N/A\"),\n",
    "            \"Study ID\": record.get(\"StudyID\", \"N/A\"),\n",
    "            \"Series Number\": record.get(\"SeriesNumber\", \"N/A\"),\n",
    "            \"Instance Number\": record.get(\"InstanceNumber\", \"N/A\"),\n",
    "            \"Referenced File ID\": record.get(\"ReferencedFileID\", \"N/A\")\n",
    "        }\n",
    "        print(\"seg:\", segmentation_info)"
   ]
  },
  {
   "cell_type": "code",
   "execution_count": null,
   "id": "666c6397",
   "metadata": {},
   "outputs": [],
   "source": [
    "for record in dicomdir.DirectoryRecordSequence:\n",
    "    # Check if the record corresponds to a segmentation object\n",
    "    if record.get(\"ReferencedSOPClassUIDInFile\", \"\") == \"1.2.840.10008.5.1.4.1.1.66.4\":\n",
    "        has_segmentation_type = \"SegmentationType\" in record\n",
    "        has_segment_sequence = \"SegmentSequence\" in record\n",
    "        has_referenced_series_sequence = \"ReferencedSeriesSequence\" in record\n",
    "\n",
    "        if has_segmentation_type or has_segment_sequence or has_referenced_series_sequence:\n",
    "            segmentation_info_found = True\n",
    "            print(f\"Segmentation information found in record: {record}\")\n",
    "            if has_segmentation_type:\n",
    "                print(f\"  Segmentation Type: {record.SegmentationType}\")\n",
    "            if has_segment_sequence:\n",
    "                print(f\"  Segment Sequence: {record.SegmentSequence}\")\n",
    "            if has_referenced_series_sequence:\n",
    "                print(f\"  Referenced Series Sequence: {record.ReferencedSeriesSequence}\")\n",
    "            print(\"\\n\")"
   ]
  },
  {
   "cell_type": "markdown",
   "id": "9f512fd0",
   "metadata": {},
   "source": [
    "# Analysis of all patients"
   ]
  },
  {
   "cell_type": "code",
   "execution_count": null,
   "id": "6765a5dd",
   "metadata": {},
   "outputs": [],
   "source": [
    "\n",
    "all_patients_dir = '../../data/ProstateData/BREST patients/'\n",
    "study_counts = {}\n",
    "study_description_counts = {}\n",
    "i=0\n",
    "\n",
    "record_df = pd.DataFrame(columns=['patient', 'study', 'series', 'series_modality', 'series_description', 'series_body_part', 'records', 'img_rows', 'img_columns'])\n",
    "\n",
    "for patient_folder in os.listdir(all_patients_dir):\n",
    "    patient_dir = all_patients_dir + patient_folder + \"/DICOMDIR\"\n",
    "    dcm = pydicom.dcmread(patient_dir)\n",
    "\n",
    "    # Iterate over studies\n",
    "    for study in dcm.patient_records[0].children:\n",
    "        study_count = study_counts.get(patient_folder, 0)\n",
    "        study_counts[patient_folder] = study_count + 1\n",
    "\n",
    "        desc = study.get(\"StudyDescription\", \"N/A\")\n",
    "        desc_count = study_description_counts.get(desc, 0)\n",
    "        study_description_counts[desc] = desc_count + 1\n",
    "\n",
    "        # iterate over series of study\n",
    "        for series in study.children:\n",
    "            # count records of the series\n",
    "            img_records = len([img for img in series.children if img.DirectoryRecordType == \"IMAGE\"])\n",
    "            img_rows = -1\n",
    "            img_columns = -1\n",
    "            for img in series.children:\n",
    "                if img.DirectoryRecordType == \"IMAGE\":\n",
    "                    img_rows = img.get(\"Rows\")\n",
    "                    img_columns = img.get(\"Columns\")\n",
    "                    break\n",
    "            new_row = [patient_folder, study.get(\"StudyID\"), series.get(\"SeriesNumber\"), series.get('Modality'), series.get('SeriesDescription'), series.get('BodyPartExamined'), img_records, img_rows, img_columns]\n",
    "            record_df.loc[i] = new_row\n",
    "            i+=1"
   ]
  },
  {
   "cell_type": "code",
   "execution_count": null,
   "id": "e46f7ced",
   "metadata": {},
   "outputs": [],
   "source": [
    "record_df"
   ]
  },
  {
   "cell_type": "markdown",
   "id": "a7a4bcd3",
   "metadata": {},
   "source": [
    "Analyze patients for which 2 studies were conducted"
   ]
  },
  {
   "cell_type": "code",
   "execution_count": null,
   "id": "034049be",
   "metadata": {},
   "outputs": [],
   "source": [
    "pd.set_option('display.max_rows', 200)\n",
    "patients_2_studies = record_df.groupby([\"patient\"])[\"study\"].nunique().reset_index(name='counts')\n",
    "patients_2_studies[patients_2_studies[\"counts\"] != 1]"
   ]
  },
  {
   "cell_type": "code",
   "execution_count": null,
   "id": "94b949d3",
   "metadata": {},
   "outputs": [],
   "source": [
    "# patients with 2 studies are the patients for which a CT scan (and additional PET scan) was taken\n",
    "record_df[record_df[\"patient\"] == \"BREST_132\"]"
   ]
  },
  {
   "cell_type": "code",
   "execution_count": null,
   "id": "0b6dec1e",
   "metadata": {},
   "outputs": [],
   "source": [
    "pd.set_option('display.max_rows', 5)\n",
    "record_df[record_df['series_body_part']!=\"ABDOMEN\"]"
   ]
  },
  {
   "cell_type": "markdown",
   "id": "7bd217bb",
   "metadata": {},
   "source": [
    "Get number of patients with a given count of CT/MR/PT series taken"
   ]
  },
  {
   "cell_type": "code",
   "execution_count": null,
   "id": "ae64cdee",
   "metadata": {},
   "outputs": [],
   "source": [
    "series_modalities = record_df.groupby([\"patient\", \"series_modality\"]).size().reset_index()\n",
    "series_modalities = series_modalities.rename(columns={0: \"series_for_patient_count\"})\n",
    "\n",
    "modality_counts = series_modalities.groupby([\"series_modality\", \"series_for_patient_count\"]).size()\n",
    "modality_counts"
   ]
  },
  {
   "cell_type": "markdown",
   "id": "3ca2478c",
   "metadata": {},
   "source": [
    "Get for how many patients each series type was conducted"
   ]
  },
  {
   "cell_type": "code",
   "execution_count": null,
   "id": "4f3c34ec",
   "metadata": {},
   "outputs": [],
   "source": [
    "record_df_grouped = record_df.groupby([\"series_description\", \"series_modality\"]).agg({\"patient\": \"nunique\", \"records\": {'min', 'mean', 'max'}, \"img_rows\": {'min', 'mean', 'max'}, 'img_columns': {'min', 'mean', 'max'}})\n",
    "record_df_grouped.sort_values(by=[\"series_modality\", (\"patient\", \"nunique\")], ascending=[True, False])"
   ]
  },
  {
   "cell_type": "code",
   "execution_count": null,
   "id": "247308e8",
   "metadata": {},
   "outputs": [],
   "source": [
    "print(\"number of studies per patient:\", set(study_counts.values()))\n",
    "print(len([patient for patient in study_counts if study_counts[patient] == 1]))\n",
    "print(len([patient for patient in study_counts if study_counts[patient] == 2]))"
   ]
  },
  {
   "cell_type": "code",
   "execution_count": null,
   "id": "4a252e04",
   "metadata": {},
   "outputs": [],
   "source": [
    "print(\"study descriptions with frequencies:\", study_description_counts)"
   ]
  },
  {
   "cell_type": "code",
   "execution_count": null,
   "id": "f9faca96",
   "metadata": {},
   "outputs": [],
   "source": [
    "print(\"Minimum number of images per study type\")\n",
    "print(record_df.groupby([\"series_modality\"])[\"records\"].min())\n",
    "print(\"-\"*20)\n",
    "print(\"Maximum number of images per study type\")\n",
    "print(record_df.groupby([\"series_modality\"])[\"records\"].max())"
   ]
  },
  {
   "cell_type": "markdown",
   "id": "63470320",
   "metadata": {},
   "source": [
    "Plot intensity distribution of an image"
   ]
  },
  {
   "cell_type": "code",
   "execution_count": null,
   "id": "a7de5e26",
   "metadata": {},
   "outputs": [],
   "source": [
    "dicom_file_path = \"../../data/ProstateData/BREST patients/BREST_136/DICOM/00001975/AA0839C2/AAAAF44B/0000D8AB/EE7CC5A3\"\n",
    "\n",
    "dataset = pydicom.dcmread(dicom_file_path)\n",
    "\n",
    "# Check if the Pixel Data attribute is present in the dataset.\n",
    "if \"PixelData\" in dataset:\n",
    "    pixel_data = dataset.pixel_array\n",
    "    pixel_data = pixel_data.flatten()\n",
    "    plt.hist(pixel_data.ravel(), bins=256, range=(0, 255))\n",
    "    plt.xlabel('Pixel Value')\n",
    "    plt.ylabel('Frequency')\n",
    "    plt.show()\n",
    "\n",
    "    plt.imshow(dataset.pixel_array, cmap=plt.cm.bone)\n",
    "    plt.show()"
   ]
  },
  {
   "cell_type": "markdown",
   "id": "a3936c4c",
   "metadata": {},
   "source": [
    "# Visualizing series per description to study patterns and anomalies"
   ]
  },
  {
   "cell_type": "code",
   "execution_count": null,
   "id": "6cf231fa",
   "metadata": {},
   "outputs": [],
   "source": [
    "class SeriesImageNavigator:\n",
    "    def __init__(self, all_series_images):\n",
    "        self.all_series_images = all_series_images\n",
    "        self.current_patient_index = 0\n",
    "        self.interactive_plot = None\n",
    "        self.setup_ui()\n",
    "\n",
    "    def plot_image(self, list_of_images, image_idx):\n",
    "        if list_of_images and image_idx < len(list_of_images):\n",
    "            plt.imshow(list_of_images[image_idx])\n",
    "            plt.axis('off')\n",
    "            plt.show()\n",
    "        else:\n",
    "            print(\"No images to display for this patient or index out of range.\")\n",
    "\n",
    "    def get_slider(self, max_value):\n",
    "        return widgets.IntSlider(value=0, min=0, max=max_value, step=1, description='Image Index:', continuous_update=False)\n",
    "\n",
    "    def update_plot(self, patient_idx):\n",
    "        self.current_patient_index = patient_idx\n",
    "        if self.all_series_images[patient_idx]:\n",
    "            slider = self.get_slider(len(self.all_series_images[patient_idx]) - 1)\n",
    "            self.interactive_plot = interactive(self.plot_image, list_of_images=widgets.fixed(self.all_series_images[patient_idx]), image_idx=slider)\n",
    "            self.display_container.children = [self.nav_buttons, self.interactive_plot]\n",
    "        else:\n",
    "            print(f\"No images found for patient at index {patient_idx}\")\n",
    "\n",
    "    def navigate_patient(self, b):\n",
    "        if b.description == 'Next' and self.current_patient_index < len(self.all_series_images) - 1:\n",
    "            self.update_plot(self.current_patient_index + 1)\n",
    "        elif b.description == 'Previous' and self.current_patient_index > 0:\n",
    "            self.update_plot(self.current_patient_index - 1)\n",
    "\n",
    "    def setup_ui(self):\n",
    "        self.interactive_plot = interactive(self.plot_image, list_of_images=widgets.fixed(self.all_series_images[self.current_patient_index]), image_idx=self.get_slider(len(self.all_series_images[self.current_patient_index]) - 1))\n",
    "\n",
    "        next_button = Button(description='Next', layout=Layout(width='100px'))\n",
    "        prev_button = Button(description='Previous', layout=Layout(width='100px'))\n",
    "        next_button.on_click(self.navigate_patient)\n",
    "        prev_button.on_click(self.navigate_patient)\n",
    "\n",
    "        self.nav_buttons = HBox([prev_button, next_button])\n",
    "        self.display_container = widgets.VBox([self.nav_buttons, self.interactive_plot])\n",
    "\n",
    "    def display(self):\n",
    "        display(self.display_container)"
   ]
  },
  {
   "cell_type": "code",
   "execution_count": null,
   "id": "78fcc303",
   "metadata": {},
   "outputs": [],
   "source": [
    "# Collect all images for each patient\n",
    "def collect_images_of_series(series_description: str):\n",
    "    all_series_images = []\n",
    "    all_patients_dir = '../../data/ProstateData/BREST patients/'\n",
    "    for patient_folder in os.listdir(all_patients_dir):\n",
    "        patient_dir = os.path.join(all_patients_dir, patient_folder, \"DICOMDIR\")\n",
    "        dcm = pydicom.dcmread(patient_dir)\n",
    "        for study in dcm.patient_records[0].children:\n",
    "            for series in study.children:\n",
    "                if str(series.SeriesDescription).lower().strip() == series_description.lower().strip():\n",
    "                    image_records = [img for img in series.children if img.DirectoryRecordType == \"IMAGE\"]\n",
    "                    image_series = []\n",
    "                    for image_record in image_records:\n",
    "                        # Get the path to the image file using the reference in the DICOMDIR\n",
    "                        img_path = os.path.join(os.path.dirname(patient_dir), os.path.join(*image_record.ReferencedFileID))\n",
    "                        \n",
    "                        # Read and display the image\n",
    "                        ds = pydicom.dcmread(img_path)\n",
    "                        image_series.append(ds.pixel_array)\n",
    "                    all_series_images.append(image_series)\n",
    "\n",
    "    return all_series_images"
   ]
  },
  {
   "cell_type": "code",
   "execution_count": null,
   "id": "dd58d86c",
   "metadata": {},
   "outputs": [],
   "source": [
    "# Collect numpy arrays of images pertaining to a series with a given description\n",
    "directory_path = '../../data/ProstateData/BREST patients/'\n",
    "series_images = collect_images_of_series(\"Pelvis_t1_tse_cor_p2\")\n"
   ]
  },
  {
   "cell_type": "code",
   "execution_count": null,
   "id": "2826c3b3",
   "metadata": {},
   "outputs": [],
   "source": [
    "navigator = SeriesImageNavigator(series_images)\n",
    "navigator.display()"
   ]
  },
  {
   "cell_type": "markdown",
   "id": "c7cbda60",
   "metadata": {},
   "source": [
    "### Visualize series of the same patient in parallel"
   ]
  },
  {
   "cell_type": "code",
   "execution_count": null,
   "id": "e33d8866",
   "metadata": {},
   "outputs": [],
   "source": [
    "class PatientImageNavigator:\n",
    "    def __init__(self, series):\n",
    "        self.series_images = series\n",
    "        self.interactive_plots = []\n",
    "        self.setup_ui()\n",
    "\n",
    "    def plot_image(self, list_of_images, image_idx):\n",
    "        if list_of_images and image_idx < len(list_of_images):\n",
    "            plt.imshow(list_of_images[image_idx])\n",
    "            plt.axis('off')\n",
    "            plt.show()\n",
    "        else:\n",
    "            print(\"No images to display or index out of range.\")\n",
    "\n",
    "    def get_slider(self, max_value):\n",
    "        return widgets.IntSlider(value=0, min=0, max=max_value, step=1, description='Image Index:', continuous_update=False)\n",
    "\n",
    "    def setup_ui(self):\n",
    "        row_plots = []\n",
    "        for i, series in enumerate(self.series_images):\n",
    "            if series['images']:\n",
    "                title = series['title'] \n",
    "                slider= self.get_slider(len(series['images'][0]) - 1)\n",
    "                interactive_plot = interactive(self.plot_image, list_of_images=widgets.fixed(series['images'][0]), image_idx=slider)\n",
    "                plot_container = widgets.VBox([Label(title), interactive_plot], layout=Layout(border='1px solid black', padding='5px'))\n",
    "                row_plots.append(plot_container)\n",
    "\n",
    "                if len(row_plots) == 4:\n",
    "                    self.interactive_plots.append(HBox(row_plots, layout=Layout(padding='5px')))\n",
    "                    row_plots = []\n",
    "        \n",
    "        if row_plots:\n",
    "            self.interactive_plots.append(HBox(row_plots, layout=Layout(padding='5px')))\n",
    "\n",
    "        self.display_container = VBox(self.interactive_plots, layout=Layout(padding='5px'))\n",
    "\n",
    "    def display(self):\n",
    "        display(self.display_container)\n"
   ]
  },
  {
   "cell_type": "code",
   "execution_count": null,
   "id": "53bc3251",
   "metadata": {},
   "outputs": [],
   "source": [
    "def create_input_for_navigator(dataset_path, patient_folder, descriptions):\n",
    "    res = []\n",
    "    for description in descriptions:\n",
    "        try:\n",
    "            series_npy = np.load(os.path.join(dataset_path, patient_folder, description + '.npy'))\n",
    "            res.append({\n",
    "                'title': description,\n",
    "                'images': [[series_npy[i, :, :] for i in range(series_npy.shape[0])]] #convert to a list of 2D arrays\n",
    "            })\n",
    "        except Exception as e:\n",
    "            continue # series does not exist\n",
    "    return res"
   ]
  },
  {
   "cell_type": "code",
   "execution_count": null,
   "id": "2147dc33",
   "metadata": {},
   "outputs": [],
   "source": [
    "descriptions = [\n",
    "    'Pelvis_t2_haste_fs_db_tra_p2_320',\n",
    "    '*MRAC_PET_mlaa_siemens_4BP TK_AC Images',\n",
    "    '*Pelvis_MRAC_PET_mlaa_siemens_Becken_1BP_15min_LM_AC Images',\n",
    "    'Pelvis_ep2d_diff_tra_ADC',\n",
    "    'Pelvis_ep2d_diff_tra',\n",
    "    'Pelvis_t1_tse_cor_p2',\n",
    "    'Pelvis_t2_spc_rst_tra_p2_iso'\n",
    "]\n",
    "input = create_input_for_navigator('../../data/ProstateDataCenterCropNP','BREST_137', descriptions)"
   ]
  },
  {
   "cell_type": "code",
   "execution_count": null,
   "id": "0294dc8c",
   "metadata": {},
   "outputs": [],
   "source": [
    "navigator = PatientImageNavigator(input)\n",
    "navigator.display()"
   ]
  }
 ],
 "metadata": {
  "kernelspec": {
   "display_name": "Python 3 (ipykernel)",
   "language": "python",
   "name": "python3"
  },
  "language_info": {
   "codemirror_mode": {
    "name": "ipython",
    "version": 3
   },
   "file_extension": ".py",
   "mimetype": "text/x-python",
   "name": "python",
   "nbconvert_exporter": "python",
   "pygments_lexer": "ipython3",
   "version": "3.11.5"
  }
 },
 "nbformat": 4,
 "nbformat_minor": 5
}
