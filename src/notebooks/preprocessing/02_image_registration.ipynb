{
 "cells": [
  {
   "cell_type": "markdown",
   "metadata": {},
   "source": [
    "# Register dataset\n",
    "\n",
    "- All patient images registered using series 'Pelvis_t2_spc_rst_tra_p2_iso' as fixed image. Patients who does not have this image are skipped. \n",
    "\n",
    "- Two methods used, one for MRI and another for PET. \n",
    "\n",
    "- Full body scans are skipped, only pelvis scans used\n",
    "\n",
    "- Estimated time for registering dataset: 15 min"
   ]
  },
  {
   "cell_type": "code",
   "execution_count": null,
   "metadata": {},
   "outputs": [],
   "source": [
    "import os\n",
    "import pydicom\n",
    "import pandas as pd\n",
    "import matplotlib.pyplot as plt\n",
    "import numpy as np\n",
    "from ipywidgets import interactive, widgets, Layout, HBox, VBox, Label, interact, fixed\n",
    "from IPython.display import display, clear_output\n",
    "import itk\n",
    "import SimpleITK as sitk\n",
    "from concurrent.futures import ProcessPoolExecutor"
   ]
  },
  {
   "cell_type": "markdown",
   "metadata": {},
   "source": [
    "### Method 1: Simple Center Transform"
   ]
  },
  {
   "cell_type": "markdown",
   "metadata": {},
   "source": [
    "Use the CenteredTransformInitializer to align the centers of the two volumes and set the center of rotation to the center of the fixed image. Method used between MRI images, as they are very similar images although they vary in resolution"
   ]
  },
  {
   "cell_type": "code",
   "execution_count": null,
   "metadata": {},
   "outputs": [],
   "source": [
    "def apply_centered_transform(fixed_image, moving_image):\n",
    "    initial_transform = sitk.CenteredTransformInitializer(fixed_image, \n",
    "                                                        moving_image, \n",
    "                                                        sitk.Euler3DTransform(), \n",
    "                                                        sitk.CenteredTransformInitializerFilter.GEOMETRY)\n",
    "\n",
    "    reference_image = sitk.Image(fixed_image.GetSize()[0], fixed_image.GetSize()[1], fixed_image.GetSize()[2], fixed_image.GetPixelID())\n",
    "    reference_image.SetOrigin(fixed_image.GetOrigin())\n",
    "    reference_image.SetSpacing((fixed_image.GetSpacing()[0], fixed_image.GetSpacing()[1], fixed_image.GetSpacing()[2]))\n",
    "    reference_image.SetDirection(fixed_image.GetDirection())\n",
    "    return sitk.Resample(moving_image, reference_image, initial_transform, sitk.sitkHammingWindowedSinc, 0.0, moving_image.GetPixelID())\n",
    "\n"
   ]
  },
  {
   "cell_type": "markdown",
   "metadata": {},
   "source": [
    "### Method 2: Example registration from ITK notebook examples"
   ]
  },
  {
   "cell_type": "markdown",
   "metadata": {},
   "source": [
    "More sophisticated method used for PET Pelvis images due to its high differences with MRI images. This method does not work correctly with series like MRI ADC because they have a very small depth compared to the fixed image series (Pelvis_t2_spc_rst_tra_p2_iso)"
   ]
  },
  {
   "cell_type": "code",
   "execution_count": null,
   "metadata": {},
   "outputs": [],
   "source": [
    "def register_image(fixed_image, moving_image):\n",
    "\n",
    "    initial_transform = sitk.CenteredTransformInitializer(fixed_image, \n",
    "                                                        moving_image, \n",
    "                                                        sitk.Euler3DTransform(), \n",
    "                                                        sitk.CenteredTransformInitializerFilter.GEOMETRY)\n",
    "    registration_method = sitk.ImageRegistrationMethod()\n",
    "\n",
    "    # Similarity metric settings.\n",
    "    registration_method.SetMetricAsMattesMutualInformation(numberOfHistogramBins=50)\n",
    "    registration_method.SetMetricSamplingStrategy(registration_method.RANDOM)\n",
    "    registration_method.SetMetricSamplingPercentage(0.01)\n",
    "\n",
    "    registration_method.SetInterpolator(sitk.sitkHammingWindowedSinc)\n",
    "\n",
    "    # Optimizer settings.\n",
    "    registration_method.SetOptimizerAsGradientDescent(learningRate=1.0, numberOfIterations=100, convergenceMinimumValue=1e-6, convergenceWindowSize=10)\n",
    "    registration_method.SetOptimizerScalesFromPhysicalShift()\n",
    "\n",
    "    # Setup for the multi-resolution framework.            \n",
    "    registration_method.SetShrinkFactorsPerLevel(shrinkFactors = [4,2,1])\n",
    "    registration_method.SetSmoothingSigmasPerLevel(smoothingSigmas=[2,1,0])\n",
    "    registration_method.SmoothingSigmasAreSpecifiedInPhysicalUnitsOn()\n",
    "\n",
    "    # Don't optimize in-place, we would possibly like to run this cell multiple times.\n",
    "    registration_method.SetInitialTransform(initial_transform, inPlace=False)\n",
    "\n",
    "    final_transform = registration_method.Execute(sitk.Cast(fixed_image, sitk.sitkFloat32), \n",
    "                                                sitk.Cast(moving_image, sitk.sitkFloat32))\n",
    "    # Resample the moving image to the space of the fixed image\n",
    "    reference_image = sitk.Image(fixed_image.GetSize()[0], fixed_image.GetSize()[1], fixed_image.GetSize()[2], fixed_image.GetPixelID())\n",
    "    reference_image.SetOrigin(fixed_image.GetOrigin())\n",
    "    reference_image.SetSpacing((fixed_image.GetSpacing()[0], fixed_image.GetSpacing()[1], fixed_image.GetSpacing()[2]))\n",
    "    reference_image.SetDirection(fixed_image.GetDirection())\n",
    "    return sitk.Resample(moving_image, reference_image, final_transform, sitk.sitkHammingWindowedSinc, 0.0, moving_image.GetPixelID())"
   ]
  },
  {
   "cell_type": "markdown",
   "metadata": {},
   "source": [
    "### Register all images"
   ]
  },
  {
   "cell_type": "code",
   "execution_count": null,
   "metadata": {},
   "outputs": [],
   "source": [
    "fixed_image_descriptions = [\n",
    "'Pelvis_t2_spc_rst_tra_p2_iso', # patients who does not contain this series will be skipped\n",
    "]\n",
    "def find_fixed_image(patient_images_path):\n",
    "    for description in fixed_image_descriptions:\n",
    "        try:\n",
    "            image = sitk.ReadImage(os.path.join(patient_images_path, description+'.mha'), sitk.sitkFloat32)\n",
    "            return image, description\n",
    "        except Exception as e:\n",
    "            continue\n",
    "    return None, None"
   ]
  },
  {
   "cell_type": "code",
   "execution_count": null,
   "metadata": {},
   "outputs": [],
   "source": [
    "def process_image(fixed_image, moving_image, output_path, method):\n",
    "    if method == 1:\n",
    "        registered_image = apply_centered_transform(fixed_image, moving_image) # method 1\n",
    "    elif method == 2:\n",
    "        registered_image = register_image(fixed_image, moving_image) # method 2\n",
    "    else:\n",
    "        raise Exception('Method must be 1 or 2')\n",
    "    sitk.WriteImage(registered_image, output_path)"
   ]
  },
  {
   "cell_type": "code",
   "execution_count": null,
   "metadata": {},
   "outputs": [],
   "source": [
    "root_dir = '../../../data/ProstateData/BREST patients/'\n",
    "mha_images_path = '/local_ssd/practical_wise24/prostate_cancer/mha_corrected_images'\n",
    "# mha_images_path = './mha_corrected_images'\n",
    "registered_dataset_path = '/local_ssd/practical_wise24/prostate_cancer/mha_registered_images'\n",
    "# registered_dataset_path = './mha_registered_images'\n",
    "all_descriptions = [\n",
    "    'Pelvis_t2_spc_rst_tra_p2_iso',\n",
    "    'Pelvis_t2_haste_fs_db_tra_p2_320',\n",
    "    '*MRAC_PET_mlaa_siemens_4BP TK_AC Images',\n",
    "    '*Pelvis_MRAC_PET_mlaa_siemens_Becken_1BP_15min_LM_AC Images',\n",
    "    '*Pelvis_MRAC_PET_siemens_Becken_1BP_15min_LM_AC Images',\n",
    "    '*MRAC_PET_siemens_4BP TK_AC Images',\n",
    "    'Pelvis_ep2d_diff_tra_ADC',\n",
    "    'Pelvis_ep2d_diff_tra',\n",
    "    'Pelvis_t1_tse_cor_p2',\n",
    "]"
   ]
  },
  {
   "cell_type": "code",
   "execution_count": null,
   "metadata": {},
   "outputs": [],
   "source": [
    "with ProcessPoolExecutor(max_workers=os.cpu_count()) as executor:\n",
    "    for patient_folder in os.listdir(root_dir):\n",
    "        files_path = os.path.join(mha_images_path, patient_folder)\n",
    "        fixed_image, description_used = find_fixed_image(files_path)\n",
    "        write_file_path = os.path.join(registered_dataset_path, patient_folder)\n",
    "        if os.path.exists(write_file_path):\n",
    "            continue\n",
    "        else:\n",
    "            os.makedirs(write_file_path)\n",
    "\n",
    "        if fixed_image is not None:\n",
    "            tasks = []\n",
    "\n",
    "            for mha_file_name in os.listdir(files_path):\n",
    "                description = mha_file_name.split('.')[0]\n",
    "                if 'PET' in description:\n",
    "                    if 'Pelvis' in description: # full body pets are skipped\n",
    "                        moving_image = sitk.ReadImage(os.path.join(files_path, mha_file_name), sitk.sitkFloat32)\n",
    "                        output_path = os.path.join(write_file_path, mha_file_name)\n",
    "                        task = executor.submit(process_image, fixed_image, moving_image, output_path, 2)\n",
    "                        tasks.append(task)\n",
    "                else:\n",
    "                    if mha_file_name.split('.')[0] != description_used:\n",
    "                        moving_image = sitk.ReadImage(os.path.join(files_path, mha_file_name), sitk.sitkFloat32)\n",
    "                        output_path = os.path.join(write_file_path, mha_file_name)\n",
    "                        task = executor.submit(process_image, fixed_image, moving_image, output_path, 1)\n",
    "                        tasks.append(task)\n",
    "\n",
    "            # Wait for all tasks to complete\n",
    "            for task in tasks:\n",
    "                task.result()\n",
    "\n",
    "            sitk.WriteImage(fixed_image, os.path.join(write_file_path, description_used + '.mha'))"
   ]
  },
  {
   "cell_type": "markdown",
   "metadata": {},
   "source": [
    "### Visualize Results"
   ]
  },
  {
   "cell_type": "code",
   "execution_count": null,
   "metadata": {},
   "outputs": [],
   "source": [
    "def display_images(fixed_image_z, moving_image_z, fixed_npa, moving_npa):\n",
    "    # Create a figure with two subplots and the specified size.\n",
    "    plt.subplots(1,2,figsize=(10,8))\n",
    "    \n",
    "    # Draw the fixed image in the first subplot.\n",
    "    plt.subplot(1,2,1)\n",
    "    plt.imshow(fixed_npa[fixed_image_z,:,:],cmap=plt.cm.Greys_r);\n",
    "    plt.title('fixed image')\n",
    "    plt.axis('off')\n",
    "    \n",
    "    # Draw the moving image in the second subplot.\n",
    "    plt.subplot(1,2,2)\n",
    "    plt.imshow(moving_npa[moving_image_z,:,:],cmap=plt.cm.Greys_r);\n",
    "    plt.title('moving image')\n",
    "    plt.axis('off')\n",
    "    \n",
    "    plt.show()"
   ]
  },
  {
   "cell_type": "code",
   "execution_count": null,
   "metadata": {},
   "outputs": [],
   "source": [
    "fixed_image =  sitk.ReadImage('./mha_registered_images/BREST_001/Pelvis_t2_spc_rst_tra_p2_iso.mha', sitk.sitkFloat32)\n",
    "moving_image = sitk.ReadImage('./mha_registered_images/BREST_001/Pelvis_ep2d_diff_tra_ADC.mha', sitk.sitkFloat32) "
   ]
  },
  {
   "cell_type": "code",
   "execution_count": null,
   "metadata": {},
   "outputs": [],
   "source": [
    "interact(display_images, fixed_image_z=(0,fixed_image.GetSize()[2]-1), moving_image_z=(0,moving_image.GetSize()[2]-1), fixed_npa = fixed(sitk.GetArrayViewFromImage(fixed_image)), moving_npa=fixed(sitk.GetArrayViewFromImage(moving_image)));"
   ]
  }
 ],
 "metadata": {
  "kernelspec": {
   "display_name": "ProstateCancer",
   "language": "python",
   "name": "python3"
  },
  "language_info": {
   "codemirror_mode": {
    "name": "ipython",
    "version": 3
   },
   "file_extension": ".py",
   "mimetype": "text/x-python",
   "name": "python",
   "nbconvert_exporter": "python",
   "pygments_lexer": "ipython3",
   "version": "3.11.5"
  }
 },
 "nbformat": 4,
 "nbformat_minor": 2
}
