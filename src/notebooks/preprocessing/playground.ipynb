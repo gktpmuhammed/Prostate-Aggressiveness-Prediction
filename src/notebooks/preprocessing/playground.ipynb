{
 "cells": [
  {
   "cell_type": "markdown",
   "metadata": {},
   "source": [
    "## Exploring metadata of problematic series (registration-wise)"
   ]
  },
  {
   "cell_type": "code",
   "execution_count": null,
   "metadata": {},
   "outputs": [],
   "source": [
    "import os\n",
    "import matplotlib.pyplot as plt\n",
    "import numpy as np\n",
    "from IPython.display import display, clear_output\n",
    "import itk\n",
    "import SimpleITK as sitk\n",
    "import matplotlib.patches as patches\n",
    "from ipywidgets import interact, fixed\n",
    "from matplotlib.widgets import Slider\n",
    "from Nyul_preprocessing import *"
   ]
  },
  {
   "cell_type": "code",
   "execution_count": null,
   "metadata": {},
   "outputs": [],
   "source": [
    "def display_images(fixed_image_z, moving_image_z, fixed_npa, moving_npa):\n",
    "    # Create a figure with two subplots and the specified size.\n",
    "    plt.subplots(1,2,figsize=(10,8))\n",
    "    \n",
    "    # Draw the fixed image in the first subplot.\n",
    "    plt.subplot(1,2,1)\n",
    "    plt.imshow(fixed_npa[fixed_image_z,:,:],cmap=plt.cm.Greys_r);\n",
    "    plt.title('fixed image')\n",
    "    plt.axis('off')\n",
    "    \n",
    "    # Draw the moving image in the second subplot.\n",
    "    plt.subplot(1,2,2)\n",
    "    plt.imshow(moving_npa[moving_image_z,:,:],cmap=plt.cm.Greys_r);\n",
    "    plt.title('moving image')\n",
    "    plt.axis('off')\n",
    "    \n",
    "    plt.show()\n",
    "\n",
    "# overlaps images and allows to change alpha blending -> opacity\n",
    "def display_images_with_alpha(image_z, alpha, fixed, moving):\n",
    "    img = (1.0 - alpha)*fixed[:,:,image_z] + alpha*moving[:,:,image_z] \n",
    "    plt.imshow(sitk.GetArrayViewFromImage(img),cmap=plt.cm.Greys_r);\n",
    "    plt.axis('off')\n",
    "    plt.show()"
   ]
  },
  {
   "cell_type": "code",
   "execution_count": null,
   "metadata": {},
   "outputs": [],
   "source": [
    "fixed_image = sitk.ReadImage('/local_ssd/practical_wise24/prostate_cancer/clean_dataset/BREST_011/Pelvis_ep2d_diff_tra.mha', sitk.sitkFloat32) \n",
    "moving_image =  sitk.ReadImage('/local_ssd/practical_wise24/prostate_cancer/PICAIDataset/input/images/11443/11443_1001467_t2w.mha', sitk.sitkFloat32)"
   ]
  },
  {
   "cell_type": "code",
   "execution_count": null,
   "metadata": {},
   "outputs": [],
   "source": [
    "interact(display_images, fixed_image_z=(0,fixed_image.GetSize()[2]-1), moving_image_z=(0,moving_image.GetSize()[2]-1), fixed_npa = fixed(sitk.GetArrayViewFromImage(fixed_image)), moving_npa=fixed(sitk.GetArrayViewFromImage(moving_image)));"
   ]
  },
  {
   "cell_type": "markdown",
   "metadata": {},
   "source": [
    "#### Fixed image info"
   ]
  },
  {
   "cell_type": "code",
   "execution_count": null,
   "metadata": {},
   "outputs": [],
   "source": [
    "print(fixed_image.GetOrigin())\n",
    "print(fixed_image.GetSize())\n",
    "print(fixed_image.GetSpacing())\n",
    "print(fixed_image.GetDirection())"
   ]
  },
  {
   "cell_type": "markdown",
   "metadata": {},
   "source": [
    "#### Moving image info"
   ]
  },
  {
   "cell_type": "code",
   "execution_count": null,
   "metadata": {},
   "outputs": [],
   "source": [
    "print(moving_image.GetOrigin())\n",
    "print(moving_image.GetSize())\n",
    "print(moving_image.GetSpacing())\n",
    "print(moving_image.GetDirection())"
   ]
  },
  {
   "cell_type": "markdown",
   "metadata": {},
   "source": [
    "#### Example registration"
   ]
  },
  {
   "cell_type": "code",
   "execution_count": null,
   "metadata": {},
   "outputs": [],
   "source": [
    "# Set up the registration method\n",
    "registration_method = sitk.ImageRegistrationMethod()\n",
    "\n",
    "# Similarity metric settings\n",
    "registration_method.SetMetricAsMattesMutualInformation(numberOfHistogramBins=50)\n",
    "registration_method.SetMetricSamplingStrategy(registration_method.RANDOM)\n",
    "registration_method.SetMetricSamplingPercentage(0.01)\n",
    "\n",
    "# Interpolator\n",
    "registration_method.SetInterpolator(sitk.sitkHammingWindowedSinc)\n",
    "\n",
    "# Optimizer settings\n",
    "registration_method.SetOptimizerAsGradientDescent(learningRate=1.0, numberOfIterations=100, convergenceMinimumValue=1e-6, convergenceWindowSize=10)\n",
    "registration_method.SetOptimizerScalesFromPhysicalShift()\n",
    "\n",
    "# Setup for the multi-resolution framework\n",
    "registration_method.SetShrinkFactorsPerLevel(shrinkFactors = [4,2,1])\n",
    "registration_method.SetSmoothingSigmasPerLevel(smoothingSigmas=[2,1,0])\n",
    "registration_method.SmoothingSigmasAreSpecifiedInPhysicalUnitsOn()\n",
    "\n",
    "# Initial alignment of the moving image\n",
    "initial_transform = sitk.CenteredTransformInitializer(res, adc_image, sitk.Euler3DTransform(), sitk.CenteredTransformInitializerFilter.GEOMETRY)\n",
    "registration_method.SetInitialTransform(initial_transform, inPlace=False)\n",
    "\n",
    "# Execute the registration\n",
    "final_transform = registration_method.Execute(res, adc_image)\n",
    "\n"
   ]
  },
  {
   "cell_type": "code",
   "execution_count": null,
   "metadata": {},
   "outputs": [],
   "source": [
    "# Resample the moving image to the space of the fixed image\n",
    "# resampler1 = sitk.ResampleImageFilter()\n",
    "# resampler1.SetReferenceImage(fixed_image)\n",
    "# resampler1.SetInterpolator(sitk.sitkBSpline)\n",
    "# resampler1.SetTransform(final_transform)\n",
    "# aligned_moving_image1 = resampler1.Execute(moving_image)\n",
    "\n",
    "# resampler2 = sitk.ResampleImageFilter()\n",
    "# resampler2.SetReferenceImage(fixed_image)\n",
    "# resampler2.SetInterpolator(sitk.sitkLinear)\n",
    "# resampler2.SetTransform(final_transform)\n",
    "# aligned_moving_image2 = resampler2.Execute(moving_image)\n",
    "\n",
    "resampler4 = sitk.ResampleImageFilter()\n",
    "resampler4.SetReferenceImage(res)\n",
    "resampler4.SetInterpolator(sitk.sitkHammingWindowedSinc)\n",
    "resampler4.SetTransform(final_transform)\n",
    "resampled = resampler4.Execute(adc_image)"
   ]
  },
  {
   "cell_type": "code",
   "execution_count": null,
   "metadata": {},
   "outputs": [],
   "source": [
    "interact(display_images, fixed_image_z=(0,fixed_image.GetSize()[2]-1), moving_image_z=(0,aligned_moving_image1.GetSize()[2]-1), fixed_npa = fixed(sitk.GetArrayViewFromImage(fixed_image)), moving_npa=fixed(sitk.GetArrayViewFromImage(aligned_moving_image1)));\n",
    "interact(display_images, fixed_image_z=(0,fixed_image.GetSize()[2]-1), moving_image_z=(0,aligned_moving_image2.GetSize()[2]-1), fixed_npa = fixed(sitk.GetArrayViewFromImage(fixed_image)), moving_npa=fixed(sitk.GetArrayViewFromImage(aligned_moving_image2)));\n",
    "interact(display_images, fixed_image_z=(0,fixed_image.GetSize()[2]-1), moving_image_z=(0,aligned_moving_image4.GetSize()[2]-1), fixed_npa = fixed(sitk.GetArrayViewFromImage(fixed_image)), moving_npa=fixed(sitk.GetArrayViewFromImage(aligned_moving_image4)));"
   ]
  },
  {
   "cell_type": "code",
   "execution_count": null,
   "metadata": {},
   "outputs": [],
   "source": [
    "\n",
    "interact(display_images_with_alpha, image_z=(0,fixed_image.GetSize()[2]-1), alpha=0.5, fixed = fixed(fixed_image), moving=fixed(moving_image));"
   ]
  },
  {
   "cell_type": "markdown",
   "metadata": {},
   "source": [
    "#### Visualize overlapped slices"
   ]
  },
  {
   "cell_type": "code",
   "execution_count": null,
   "metadata": {},
   "outputs": [],
   "source": [
    "fixed_image = sitk.ReadImage('/local_ssd/practical_wise24/prostate_cancer/registered_picai_dataset/10005/10005_1000005_t2w.mha', sitk.sitkFloat32) \n",
    "moving_image =  sitk.ReadImage('/local_ssd/practical_wise24/prostate_cancer/registered_picai_dataset/10005/10005_1000005_adc.mha', sitk.sitkFloat32)"
   ]
  },
  {
   "cell_type": "code",
   "execution_count": null,
   "metadata": {},
   "outputs": [],
   "source": [
    "# Convert SimpleITK images to numpy arrays\n",
    "np_image1 = sitk.GetArrayFromImage(fixed_image)\n",
    "np_image2 = sitk.GetArrayFromImage(moving_image)\n",
    "\n",
    "# Function to display a slice\n",
    "def display_slice(slice_number):\n",
    "    plt.imshow(np_image1[slice_number, :, :], cmap='gray')\n",
    "    plt.imshow(np_image2[slice_number, :, :], cmap='hot', alpha=0.6)\n",
    "    plt.axis('off')\n",
    "    plt.show()\n",
    "\n",
    "# Initial slice number\n",
    "initial_slice = 48\n",
    "\n",
    "# Create a figure and axis for the plot\n",
    "fig, ax = plt.subplots()\n",
    "plt.subplots_adjust(left=0.25, bottom=0.25)\n",
    "\n",
    "# Display the initial slice\n",
    "display_slice(initial_slice)\n",
    "\n",
    "plt.show()"
   ]
  },
  {
   "cell_type": "code",
   "execution_count": null,
   "metadata": {},
   "outputs": [],
   "source": [
    "def apply_centered_transform(fixed_image, moving_image):\n",
    "    initial_transform = sitk.CenteredTransformInitializer(fixed_image, \n",
    "                                                        moving_image, \n",
    "                                                        sitk.Euler3DTransform(), \n",
    "                                                        sitk.CenteredTransformInitializerFilter.GEOMETRY)\n",
    "\n",
    "    reference_image = sitk.Image(fixed_image.GetSize()[0], fixed_image.GetSize()[1], fixed_image.GetSize()[2], fixed_image.GetPixelID())\n",
    "    # out_size = [\n",
    "    #     int(np.round(\n",
    "    #         size * (spacing_in / spacing_out)\n",
    "    #     ))\n",
    "    #     for size, spacing_in, spacing_out in zip([384,384,22], [0.5, 0.5, 3.000000075935057], [0.71875,0.71875, 1.0])\n",
    "    # ]\n",
    "    # reference_image = sitk.Image(out_size[0], out_size[1], out_size[2], fixed_image.GetPixelID())\n",
    "    reference_image.SetOrigin(fixed_image.GetOrigin())\n",
    "    reference_image.SetSpacing(fixed_image.GetSpacing())\n",
    "    reference_image.SetDirection(moving_image.GetDirection())\n",
    "    # initial_transform =sitk.Transform()\n",
    "    return sitk.Resample(moving_image, reference_image, initial_transform, sitk.sitkHammingWindowedSinc, 0.0, moving_image.GetPixelID())"
   ]
  },
  {
   "cell_type": "code",
   "execution_count": null,
   "metadata": {},
   "outputs": [],
   "source": [
    "resampled = apply_centered_transform(fixed_image=fixed_image, moving_image=moving_image)"
   ]
  },
  {
   "cell_type": "code",
   "execution_count": null,
   "metadata": {},
   "outputs": [],
   "source": [
    "\n",
    "interact(display_images, fixed_image_z=(0,fixed_image.GetSize()[2]-1), moving_image_z=(0,resampled.GetSize()[2]-1), fixed_npa = fixed(sitk.GetArrayViewFromImage(fixed_image)), moving_npa=fixed(sitk.GetArrayViewFromImage(resampled)));"
   ]
  },
  {
   "cell_type": "code",
   "execution_count": null,
   "metadata": {},
   "outputs": [],
   "source": [
    "print(resampled.GetOrigin())\n",
    "print(resampled.GetSize())\n",
    "print(resampled.GetSpacing())\n",
    "print(resampled.GetDirection())"
   ]
  },
  {
   "cell_type": "code",
   "execution_count": null,
   "metadata": {},
   "outputs": [],
   "source": [
    "sitk.WriteImage(resampled, './test_adc.mha')"
   ]
  },
  {
   "cell_type": "code",
   "execution_count": null,
   "metadata": {},
   "outputs": [],
   "source": [
    "private_image = sitk.ReadImage('/local_ssd/practical_wise24/prostate_cancer/mha_raw_images/BREST_001/Pelvis_ep2d_diff_tra_ADC.mha', sitk.sitkFloat32) \n",
    "picai_image =  sitk.ReadImage('/local_ssd/practical_wise24/prostate_cancer/PICAIDataset/input/images/10012/10012_1000012_adc.mha', sitk.sitkFloat32)"
   ]
  },
  {
   "cell_type": "code",
   "execution_count": null,
   "metadata": {},
   "outputs": [],
   "source": [
    "image1_array = sitk.GetArrayFromImage(private_image)\n",
    "image2_array = sitk.GetArrayFromImage(picai_image)\n",
    "# Plot histograms\n",
    "plt.figure(figsize=(10, 5))\n",
    "plt.hist(image1_array.flatten(), bins=50, alpha=0.5, label='Image 1')\n",
    "plt.hist(image2_array.flatten(), bins=50, alpha=0.5, label='Image 2')\n",
    "plt.xlabel('Intensity')\n",
    "plt.ylabel('Frequency')\n",
    "plt.title('Intensity Distributions')\n",
    "plt.legend()\n",
    "plt.show()\n",
    "\n",
    "# Calculate and print statistical measures\n",
    "print(\"Image 1: Mean =\", np.mean(image1_array), \", Std Dev =\", np.std(image1_array))\n",
    "print(\"Image 2: Mean =\", np.mean(image2_array), \", Std Dev =\", np.std(image2_array))"
   ]
  },
  {
   "cell_type": "code",
   "execution_count": null,
   "metadata": {},
   "outputs": [],
   "source": [
    "model_path = './nyul_trained_models/Pelvis_ep2d_diff_tra_ADC.npz'\n",
    "f = np.load(model_path, allow_pickle=True)\n",
    "Model = f['trainedModel'].all()\n",
    "meanLandmarks = Model['meanLandmarks']\n",
    "standarized_image = transform(picai_image,meanLandmarks=meanLandmarks)"
   ]
  },
  {
   "cell_type": "code",
   "execution_count": null,
   "metadata": {},
   "outputs": [],
   "source": [
    "image1_array = sitk.GetArrayFromImage(private_image)\n",
    "image2_array = sitk.GetArrayFromImage(standarized_image)\n",
    "# Plot histograms\n",
    "plt.figure(figsize=(10, 5))\n",
    "plt.hist(image1_array.flatten(), bins=50, alpha=0.5, label='Image 1')\n",
    "plt.hist(image2_array.flatten(), bins=50, alpha=0.5, label='Image 2')\n",
    "plt.xlabel('Intensity')\n",
    "plt.ylabel('Frequency')\n",
    "plt.title('Intensity Distributions')\n",
    "plt.legend()\n",
    "plt.show()\n",
    "\n",
    "# Calculate and print statistical measures\n",
    "print(\"Image 1: Mean =\", np.mean(image1_array), \", Std Dev =\", np.std(image1_array))\n",
    "print(\"Image 2: Mean =\", np.mean(image2_array), \", Std Dev =\", np.std(image2_array))"
   ]
  },
  {
   "cell_type": "code",
   "execution_count": null,
   "metadata": {},
   "outputs": [],
   "source": [
    "root_dir = '/local_ssd/practical_wise24/prostate_cancer/PICAIDataset/input/images'\n",
    "counter1  = 0\n",
    "counter2 = 0\n",
    "counter3 = 0\n",
    "found = False\n",
    "for patient_folder in os.listdir(root_dir):\n",
    "    files_path = os.path.join(root_dir, patient_folder)\n",
    "    for mha_file_name in os.listdir(files_path):\n",
    "        description = mha_file_name.split('.')[0]\n",
    "        if 't2w' in description:\n",
    "            image = sitk.ReadImage(os.path.join(files_path, mha_file_name), sitk.sitkFloat32)\n",
    "            if image.GetSize()[0] == 1024:\n",
    "                counter1 += 1\n",
    "                found = True\n",
    "            elif image.GetSize()[0] == 640:\n",
    "                counter2 +=1\n",
    "            elif image.GetSize()[0] == 384:\n",
    "                counter3 +=1\n",
    "        if found:\n",
    "            if 'adc' in description:\n",
    "                adc_image = sitk.ReadImage(os.path.join(files_path, mha_file_name), sitk.sitkFloat32)\n",
    "                break\n",
    "    if found:\n",
    "        break"
   ]
  },
  {
   "cell_type": "code",
   "execution_count": null,
   "metadata": {},
   "outputs": [],
   "source": [
    "image.GetSize()"
   ]
  },
  {
   "cell_type": "code",
   "execution_count": null,
   "metadata": {},
   "outputs": [],
   "source": [
    "def crop_sitk_image_centered(sitk_image, offset, size):\n",
    "    # Get the size of the image\n",
    "    image_size = sitk_image.GetSize()\n",
    "\n",
    "    # Assume 3D image; for 2D, ignore the z-dimension\n",
    "    image_center = [image_size[i] // 2 for i in range(len(image_size))]\n",
    "\n",
    "    # Adjust the center by the offset\n",
    "    adjusted_center = [image_center[i] + offset[i] for i in range(len(offset))]\n",
    "\n",
    "    # Calculate the top-left corner of the crop region\n",
    "    start_point = [adjusted_center[i] - size[i] // 2 for i in range(len(size))]\n",
    "\n",
    "     # Using RegionOfInterest to crop the image\n",
    "    roi_filter = sitk.RegionOfInterestImageFilter()\n",
    "    roi_filter.SetSize(size)\n",
    "    roi_filter.SetIndex(start_point)\n",
    "    cropped_sitk_image = roi_filter.Execute(sitk_image)\n",
    "    return cropped_sitk_image"
   ]
  },
  {
   "cell_type": "code",
   "execution_count": null,
   "metadata": {},
   "outputs": [],
   "source": [
    "image = crop_sitk_image_centered(image, [0,0,0], [612,612,image.GetSize()[2]])"
   ]
  },
  {
   "cell_type": "code",
   "execution_count": null,
   "metadata": {},
   "outputs": [],
   "source": [
    "image.GetSize()"
   ]
  },
  {
   "cell_type": "code",
   "execution_count": null,
   "metadata": {},
   "outputs": [],
   "source": [
    "out_size = [\n",
    "    int(np.round(\n",
    "        size * (spacing_in / spacing_out)\n",
    "    ))\n",
    "    for size, spacing_in, spacing_out in zip([image.GetSize()[0],image.GetSize()[1],image.GetSize()[2]], [image.GetSpacing()[0],image.GetSpacing()[1],image.GetSpacing()[2]], [0.71875,0.71875, 1.0])\n",
    "]\n",
    "reference_image = sitk.Image(out_size[0], out_size[1], out_size[2], image.GetPixelID())\n",
    "reference_image.SetOrigin(image.GetOrigin())\n",
    "reference_image.SetSpacing([0.71875,0.71875, 1.0])\n",
    "reference_image.SetDirection(image.GetDirection())\n",
    "initial_transform =sitk.Transform()\n",
    "res = sitk.Resample(image, reference_image, initial_transform, sitk.sitkHammingWindowedSinc, 0.0, image.GetPixelID())"
   ]
  },
  {
   "cell_type": "code",
   "execution_count": null,
   "metadata": {},
   "outputs": [],
   "source": [
    "res.GetSize()"
   ]
  },
  {
   "cell_type": "code",
   "execution_count": null,
   "metadata": {},
   "outputs": [],
   "source": [
    "interact(display_images, fixed_image_z=(0,image.GetSize()[2]-1), moving_image_z=(0,res.GetSize()[2]-1), fixed_npa = fixed(sitk.GetArrayViewFromImage(image)), moving_npa=fixed(sitk.GetArrayViewFromImage(res)));"
   ]
  },
  {
   "cell_type": "code",
   "execution_count": null,
   "metadata": {},
   "outputs": [],
   "source": []
  }
 ],
 "metadata": {
  "kernelspec": {
   "display_name": "ProstateCancer",
   "language": "python",
   "name": "python3"
  },
  "language_info": {
   "codemirror_mode": {
    "name": "ipython",
    "version": 3
   },
   "file_extension": ".py",
   "mimetype": "text/x-python",
   "name": "python",
   "nbconvert_exporter": "python",
   "pygments_lexer": "ipython3",
   "version": "3.11.5"
  }
 },
 "nbformat": 4,
 "nbformat_minor": 2
}
