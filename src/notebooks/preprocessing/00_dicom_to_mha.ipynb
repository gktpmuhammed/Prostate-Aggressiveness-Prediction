{
 "cells": [
  {
   "cell_type": "markdown",
   "metadata": {},
   "source": [
    "# DICOM dataset to MHA Dataset"
   ]
  },
  {
   "cell_type": "code",
   "execution_count": 1,
   "metadata": {},
   "outputs": [],
   "source": [
    "import os\n",
    "import pydicom\n",
    "import itk\n",
    "import SimpleITK as sitk"
   ]
  },
  {
   "cell_type": "code",
   "execution_count": 2,
   "metadata": {},
   "outputs": [],
   "source": [
    "# Function to get the description of the first file in a series\n",
    "def get_series_description(generator, series_id):\n",
    "    file_names = generator.GetFileNames(series_id)\n",
    "    if not file_names:\n",
    "        return None\n",
    "    image = itk.imread(file_names[0])\n",
    "    metadata = image.GetMetaDataDictionary()\n",
    "    return metadata['0008|103e'] # Tag for Series Description"
   ]
  },
  {
   "cell_type": "code",
   "execution_count": 6,
   "metadata": {},
   "outputs": [],
   "source": [
    "def save_series_to_mha(root_dir, patient_folder, series_description, save_file_path):\n",
    "    # Path to the directory containing the DICOMDIR file\n",
    "\n",
    "    dicomdir_directory = \"../../../data/ProstateData/BREST patients/\" + patient_folder\n",
    "    dicomdir_directory = os.path.join(root_dir, patient_folder)\n",
    "\n",
    "    # Create an object to store the names of the files in each series\n",
    "    names_generator = itk.GDCMSeriesFileNames.New()\n",
    "    names_generator.SetUseSeriesDetails(True)\n",
    "    names_generator.SetGlobalWarningDisplay(False)\n",
    "    series_fixed = None\n",
    "    series_id = None\n",
    "    for subdir, dirs, files in os.walk(dicomdir_directory):\n",
    "        try:\n",
    "            names_generator.SetDirectory(subdir)\n",
    "\n",
    "            # List all series in the directory\n",
    "            series_uids = names_generator.GetSeriesUIDs()\n",
    "\n",
    "            # Assuming you know some identifying feature of your T2 and ADC series,\n",
    "            # like part of the series description, loop through series to find them\n",
    "            for uid in series_uids:\n",
    "                description = get_series_description(names_generator, uid).lower().strip()\n",
    "                if series_description.lower().strip() == description:  # Replace with a more specific identifier if available\n",
    "                    path_to_series = subdir\n",
    "                    series_id = uid\n",
    "        except Exception as e:\n",
    "            continue\n",
    "\n",
    "    # Check if series were found\n",
    "    if series_id is None:\n",
    "        return False\n",
    "\n",
    "    # Set the image type\n",
    "    PixelType = itk.ctype('float')\n",
    "    Dimension = 3\n",
    "    ImageType = itk.Image[PixelType, Dimension]\n",
    "\n",
    "    names_generator.SetDirectory(path_to_series)\n",
    "    file_names = names_generator.GetFileNames(series_id)\n",
    "    reader = itk.ImageSeriesReader[ImageType].New()\n",
    "    reader.SetFileNames(file_names)\n",
    "    reader.Update()\n",
    "    image = reader.GetOutput()\n",
    "\n",
    "    itk.imwrite(image, os.path.join(save_file_path ,series_description+ \".mha\"))\n",
    "    return True"
   ]
  },
  {
   "cell_type": "markdown",
   "metadata": {},
   "source": [
    "### Iterate over all patients and transform to mha files"
   ]
  },
  {
   "cell_type": "code",
   "execution_count": 7,
   "metadata": {},
   "outputs": [],
   "source": [
    "root_dir = '../../../data/ProstateData/BREST patients/'\n",
    "mha_images_path = '/local_ssd/practical_wise24/prostate_cancer/mha_raw_images'\n",
    "# mha_images_path = './mha_raw_images'"
   ]
  },
  {
   "cell_type": "code",
   "execution_count": 8,
   "metadata": {},
   "outputs": [],
   "source": [
    "series_to_register = [\n",
    "    'Pelvis_t2_haste_fs_db_tra_p2_320',\n",
    "    'Pelvis_t2_spc_rst_tra_p2_iso',\n",
    "    '*MRAC_PET_mlaa_siemens_4BP TK_AC Images',\n",
    "    '*Pelvis_MRAC_PET_mlaa_siemens_Becken_1BP_15min_LM_AC Images',\n",
    "    '*Pelvis_MRAC_PET_siemens_Becken_1BP_15min_LM_AC Images',\n",
    "    '*MRAC_PET_siemens_4BP TK_AC Images',\n",
    "    'Pelvis_ep2d_diff_tra_ADC',\n",
    "    'Pelvis_ep2d_diff_tra',\n",
    "    'Pelvis_t1_tse_cor_p2',\n",
    "]\n",
    "for patient_folder in os.listdir(root_dir):\n",
    "    save_files_path = os.path.join(mha_images_path, patient_folder)\n",
    "    if not os.path.exists(save_files_path):\n",
    "        os.makedirs(save_files_path)\n",
    "    for description in series_to_register:\n",
    "        save_series_to_mha(root_dir, patient_folder, description, save_files_path)"
   ]
  },
  {
   "cell_type": "markdown",
   "metadata": {},
   "source": [
    "\n",
    "### Check all generated .mha files are readable"
   ]
  },
  {
   "cell_type": "code",
   "execution_count": 9,
   "metadata": {},
   "outputs": [],
   "source": [
    "for patient_folder in os.listdir(root_dir):\n",
    "    files_path = os.path.join(mha_images_path, patient_folder)\n",
    "    for mha_file_name in os.listdir(files_path):\n",
    "        file_path = os.path.join(files_path, mha_file_name)\n",
    "        try:\n",
    "            sitk.ReadImage(file_path, sitk.sitkFloat32)\n",
    "        except Exception as e:\n",
    "            print(file_path)"
   ]
  },
  {
   "cell_type": "code",
   "execution_count": null,
   "metadata": {},
   "outputs": [],
   "source": []
  }
 ],
 "metadata": {
  "kernelspec": {
   "display_name": "ProstateCancer",
   "language": "python",
   "name": "python3"
  },
  "language_info": {
   "codemirror_mode": {
    "name": "ipython",
    "version": 3
   },
   "file_extension": ".py",
   "mimetype": "text/x-python",
   "name": "python",
   "nbconvert_exporter": "python",
   "pygments_lexer": "ipython3",
   "version": "3.11.5"
  }
 },
 "nbformat": 4,
 "nbformat_minor": 2
}
