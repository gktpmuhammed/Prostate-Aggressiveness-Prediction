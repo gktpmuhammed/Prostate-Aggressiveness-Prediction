{
 "cells": [
  {
   "cell_type": "markdown",
   "metadata": {},
   "source": [
    "# Standarize series intensities"
   ]
  },
  {
   "cell_type": "markdown",
   "metadata": {},
   "source": [
    "Trains landmark models for each series in the dataset"
   ]
  },
  {
   "cell_type": "code",
   "execution_count": null,
   "metadata": {},
   "outputs": [],
   "source": [
    "import os\n",
    "import pandas as pd\n",
    "import matplotlib.pyplot as plt\n",
    "import numpy as np\n",
    "from ipywidgets import interactive, widgets, Layout, HBox, VBox, Label, interact, fixed\n",
    "from IPython.display import display, clear_output\n",
    "import itk\n",
    "import SimpleITK as sitk\n",
    "from concurrent.futures import ProcessPoolExecutor\n",
    "import torchio as tio"
   ]
  },
  {
   "cell_type": "code",
   "execution_count": null,
   "metadata": {},
   "outputs": [],
   "source": [
    "root_dir = '/local_ssd/practical_wise24/prostate_cancer/clean_dataset/' # should be this one\n",
    "# root_dir = './clean_dataset/'\n",
    "\n",
    "series = [\n",
    "    'Pelvis_t2_spc_rst_tra_p2_iso',\n",
    "    'Pelvis_t2_haste_fs_db_tra_p2_320',\n",
    "    '*Pelvis_MRAC_PET_mlaa_siemens_Becken_1BP_15min_LM_AC Images',\n",
    "    '*Pelvis_MRAC_PET_siemens_Becken_1BP_15min_LM_AC Images',\n",
    "    'Pelvis_ep2d_diff_tra_ADC',\n",
    "    'Pelvis_ep2d_diff_tra',\n",
    "    'Pelvis_t1_tse_cor_p2',\n",
    "]"
   ]
  },
  {
   "cell_type": "code",
   "execution_count": null,
   "metadata": {},
   "outputs": [],
   "source": [
    "def get_series_file_paths(description):\n",
    "    res = []\n",
    "    for patient_folder in os.listdir(root_dir):\n",
    "        files_path = os.path.join(root_dir, patient_folder)\n",
    "        for mha_file_name in os.listdir(files_path):\n",
    "            file_name_no_extension = mha_file_name.split('.')[0]\n",
    "            if file_name_no_extension == description:\n",
    "                res.append(os.path.join(files_path, mha_file_name))\n",
    "    return res \n",
    "\n",
    "def get_patient_folder_from_path(path):\n",
    "    sub_folders = path.split('/')\n",
    "    for item in sub_folders:\n",
    "        if 'BREST' in item:\n",
    "            return item\n",
    "    return None"
   ]
  },
  {
   "cell_type": "code",
   "execution_count": null,
   "metadata": {},
   "outputs": [],
   "source": [
    "for description in series:\n",
    "    serie_file_paths = get_series_file_paths(description)\n",
    "    model_path = './landmarks/' + description + '.npy'\n",
    "    # This step computes the landmarks used for standardization\n",
    "    landmarks_npy = tio.HistogramStandardization.train(serie_file_paths, output_path=model_path)\n",
    "    if not os.path.exists('./landmarks'):\n",
    "        os.makedirs('./landmarks')\n",
    "    np.save(model_path, landmarks_npy)"
   ]
  }
 ],
 "metadata": {
  "kernelspec": {
   "display_name": "ProstateCancer",
   "language": "python",
   "name": "python3"
  },
  "language_info": {
   "codemirror_mode": {
    "name": "ipython",
    "version": 3
   },
   "file_extension": ".py",
   "mimetype": "text/x-python",
   "name": "python",
   "nbconvert_exporter": "python",
   "pygments_lexer": "ipython3",
   "version": "3.11.5"
  }
 },
 "nbformat": 4,
 "nbformat_minor": 2
}
