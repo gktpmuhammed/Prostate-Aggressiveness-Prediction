{
 "cells": [
  {
   "cell_type": "code",
   "execution_count": null,
   "metadata": {},
   "outputs": [],
   "source": [
    "import os\n",
    "import matplotlib.pyplot as plt\n",
    "import numpy as np\n",
    "from IPython.display import display, clear_output\n",
    "import itk\n",
    "import SimpleITK as sitk\n",
    "import matplotlib.patches as patches\n",
    "from ipywidgets import interact, fixed\n",
    "from matplotlib.widgets import Slider\n",
    "import multiprocessing\n",
    "import pandas as pd"
   ]
  },
  {
   "cell_type": "code",
   "execution_count": null,
   "metadata": {},
   "outputs": [],
   "source": [
    "def change_voxel_spacing(image):\n",
    "    new_spacing = [0.71875,0.71875, 1.0] # spacing of our private dataset\n",
    "    out_size = [\n",
    "        int(np.round(\n",
    "            size * (spacing_in / spacing_out)\n",
    "        ))\n",
    "        for size, spacing_in, spacing_out in zip([image.GetSize()[0],image.GetSize()[1],image.GetSize()[2]], [image.GetSpacing()[0],image.GetSpacing()[1],image.GetSpacing()[2]], new_spacing)\n",
    "    ]\n",
    "    reference_image = sitk.Image(out_size[0], out_size[1], out_size[2], image.GetPixelID())\n",
    "    reference_image.SetOrigin(image.GetOrigin())\n",
    "    reference_image.SetSpacing(new_spacing)\n",
    "    reference_image.SetDirection(image.GetDirection())\n",
    "    initial_transform =sitk.Transform()\n",
    "    res = sitk.Resample(image, reference_image, initial_transform, sitk.sitkHammingWindowedSinc, 0.0, image.GetPixelID())\n",
    "    return res"
   ]
  },
  {
   "cell_type": "code",
   "execution_count": null,
   "metadata": {},
   "outputs": [],
   "source": [
    "def center_crop_1024_image(sitk_image, offset, size):\n",
    "    # Get the size of the image\n",
    "    image_size = sitk_image.GetSize()\n",
    "\n",
    "    # Assume 3D image; for 2D, ignore the z-dimension\n",
    "    image_center = [image_size[i] // 2 for i in range(len(image_size))]\n",
    "\n",
    "    # Adjust the center by the offset\n",
    "    adjusted_center = [image_center[i] + offset[i] for i in range(len(offset))]\n",
    "\n",
    "    # Calculate the top-left corner of the crop region\n",
    "    start_point = [adjusted_center[i] - size[i] // 2 for i in range(len(size))]\n",
    "\n",
    "     # Using RegionOfInterest to crop the image\n",
    "    roi_filter = sitk.RegionOfInterestImageFilter()\n",
    "    roi_filter.SetSize(size)\n",
    "    roi_filter.SetIndex(start_point)\n",
    "    cropped_sitk_image = roi_filter.Execute(sitk_image)\n",
    "    return cropped_sitk_image"
   ]
  },
  {
   "cell_type": "code",
   "execution_count": null,
   "metadata": {},
   "outputs": [],
   "source": [
    "def register_adc_image(reference, adc_image):\n",
    "    # Set up the registration method\n",
    "    registration_method = sitk.ImageRegistrationMethod()\n",
    "\n",
    "    # Similarity metric settings\n",
    "    registration_method.SetMetricAsMattesMutualInformation(numberOfHistogramBins=50)\n",
    "    registration_method.SetMetricSamplingStrategy(registration_method.RANDOM)\n",
    "    registration_method.SetMetricSamplingPercentage(0.01)\n",
    "\n",
    "    # Interpolator\n",
    "    registration_method.SetInterpolator(sitk.sitkHammingWindowedSinc)\n",
    "\n",
    "    # Optimizer settings\n",
    "    registration_method.SetOptimizerAsGradientDescent(learningRate=1.0, numberOfIterations=100, convergenceMinimumValue=1e-6, convergenceWindowSize=10)\n",
    "    registration_method.SetOptimizerScalesFromPhysicalShift()\n",
    "\n",
    "    # Setup for the multi-resolution framework\n",
    "    registration_method.SetShrinkFactorsPerLevel(shrinkFactors = [4,2,1])\n",
    "    registration_method.SetSmoothingSigmasPerLevel(smoothingSigmas=[2,1,0])\n",
    "    registration_method.SmoothingSigmasAreSpecifiedInPhysicalUnitsOn()\n",
    "\n",
    "    # Initial alignment of the moving image\n",
    "    initial_transform = sitk.CenteredTransformInitializer(reference, adc_image, sitk.Euler3DTransform(), sitk.CenteredTransformInitializerFilter.GEOMETRY)\n",
    "    registration_method.SetInitialTransform(initial_transform, inPlace=False)\n",
    "\n",
    "    # Execute the registration\n",
    "    final_transform = registration_method.Execute(reference, adc_image)\n",
    "\n",
    "    resampler = sitk.ResampleImageFilter()\n",
    "    resampler.SetReferenceImage(reference)\n",
    "    resampler.SetInterpolator(sitk.sitkHammingWindowedSinc)\n",
    "    resampler.SetTransform(final_transform)\n",
    "    resampled = resampler.Execute(adc_image)\n",
    "    return resampled"
   ]
  },
  {
   "cell_type": "code",
   "execution_count": null,
   "metadata": {},
   "outputs": [],
   "source": [
    "def is_cancer_positive(patient_id, dataset_metadata):\n",
    "    lesion_gs_value = dataset_metadata.loc[dataset_metadata['patient_id'] == patient_id, 'lesion_GS'].values\n",
    "    # print('lesion here', lesion_gs_value)\n",
    "    try:\n",
    "        s = lesion_gs_value[0]\n",
    "    except Exception as e:\n",
    "        return False\n",
    "    # Check if the value is NaN\n",
    "    if pd.isna(s):\n",
    "        return False\n",
    "    else:\n",
    "        # Check for non-zero digits\n",
    "        return any(char.isdigit() and char != '0' for char in str(s))"
   ]
  },
  {
   "cell_type": "code",
   "execution_count": null,
   "metadata": {},
   "outputs": [],
   "source": [
    "def find_fixed_image(files_path):\n",
    "    for image_name in os.listdir(files_path):\n",
    "        if 't2w' in image_name:\n",
    "            return sitk.ReadImage(os.path.join(files_path, image_name), sitk.sitkFloat32), image_name\n",
    "    return None"
   ]
  },
  {
   "cell_type": "code",
   "execution_count": null,
   "metadata": {},
   "outputs": [],
   "source": [
    "root_dir = '/local_ssd/practical_wise24/prostate_cancer/PICAIDataset/input/images'\n",
    "registered_dataset_path = '/local_ssd/practical_wise24/prostate_cancer/registered_picai_dataset' \n",
    "# registered_dataset_path = './registered_picai_dataset' \n",
    "df = pd.read_csv('/local_ssd/practical_wise24/prostate_cancer/PICAIDataset/input/picai_labels/clinical_information/marksheet.csv')\n",
    "# Convert 'patient_id' column to string\n",
    "df['patient_id'] = df['patient_id'].astype(str)"
   ]
  },
  {
   "cell_type": "code",
   "execution_count": null,
   "metadata": {},
   "outputs": [],
   "source": [
    "def process_patient(patient_folder):\n",
    "    write_file_path = os.path.join(registered_dataset_path, patient_folder)\n",
    "    if not is_cancer_positive(patient_folder, df):\n",
    "        return\n",
    "    elif not os.path.exists(write_file_path):\n",
    "        os.makedirs(write_file_path)\n",
    "    elif len(os.listdir(write_file_path)) == 2:\n",
    "        return\n",
    "    files_path = os.path.join(root_dir, patient_folder)\n",
    "    fixed_image, fixed_image_name = find_fixed_image(files_path)\n",
    "    fixed_image_output_path = os.path.join(write_file_path, fixed_image_name)\n",
    "    if fixed_image is not None:\n",
    "        if fixed_image.GetSize()[0] == 1024:\n",
    "            fixed_image = center_crop_1024_image(fixed_image, [0,0,0], [612,612,fixed_image.GetSize()[2]])\n",
    "        fixed_image = change_voxel_spacing(fixed_image)\n",
    "        for mha_file_name in os.listdir(files_path):\n",
    "            description = mha_file_name.split('.')[0]\n",
    "            if 'adc' in description:\n",
    "                moving_image = sitk.ReadImage(os.path.join(files_path, mha_file_name), sitk.sitkFloat32)\n",
    "                moving_image_output_path = os.path.join(write_file_path, mha_file_name)\n",
    "                registered_adc = register_adc_image(fixed_image, moving_image)\n",
    "            else:\n",
    "                continue\n",
    "        sitk.WriteImage(fixed_image, fixed_image_output_path)\n",
    "        sitk.WriteImage(registered_adc, moving_image_output_path)\n",
    "        print(patient_folder)"
   ]
  },
  {
   "cell_type": "code",
   "execution_count": null,
   "metadata": {},
   "outputs": [],
   "source": [
    "# Create a pool of workers\n",
    "with multiprocessing.Pool(processes=multiprocessing.cpu_count()) as pool:\n",
    "    # Map process_patient function to each patient folder\n",
    "    pool.map(process_patient, [patient_folder for patient_folder in os.listdir(root_dir)])"
   ]
  }
 ],
 "metadata": {
  "kernelspec": {
   "display_name": "ProstateCancer",
   "language": "python",
   "name": "python3"
  },
  "language_info": {
   "codemirror_mode": {
    "name": "ipython",
    "version": 3
   },
   "file_extension": ".py",
   "mimetype": "text/x-python",
   "name": "python",
   "nbconvert_exporter": "python",
   "pygments_lexer": "ipython3",
   "version": "3.11.5"
  }
 },
 "nbformat": 4,
 "nbformat_minor": 2
}
