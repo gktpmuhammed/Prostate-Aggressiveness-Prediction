{
 "cells": [
  {
   "cell_type": "markdown",
   "metadata": {},
   "source": [
    "# Remove borders center crop and save numpy\n",
    "\n",
    "Images have a lot of true black close to their margins, this step crops it to enhance the intensity normalization in step 4. We do not center crop adjusting to the prostate because our segmentation model works better with full pelvis images"
   ]
  },
  {
   "cell_type": "code",
   "execution_count": null,
   "metadata": {},
   "outputs": [],
   "source": [
    "import os\n",
    "import matplotlib.pyplot as plt\n",
    "import numpy as np\n",
    "from IPython.display import display, clear_output\n",
    "import itk\n",
    "import SimpleITK as sitk\n",
    "import matplotlib.patches as patches\n",
    "from ipywidgets import interact, fixed"
   ]
  },
  {
   "cell_type": "markdown",
   "metadata": {},
   "source": [
    "### View uncropped images"
   ]
  },
  {
   "cell_type": "code",
   "execution_count": null,
   "metadata": {},
   "outputs": [],
   "source": [
    "def display_images(image1_z,image2_z, image1_npa, image2_npa, show_roi=False):\n",
    "    # visualize cropped area with these parameters\n",
    "    crop_size_x = 280 \n",
    "    crop_size_y = 280\n",
    "    offset_origin_x = 0\n",
    "    offset_origin_y = 0\n",
    "    # Create a figure with two subplots and the specified size.\n",
    "    plt.subplots(1,2,figsize=(10,8))\n",
    "    \n",
    "    # Draw the fixed image in the first subplot.\n",
    "    ax1 = plt.subplot(1,2,1)\n",
    "    plt.imshow(image1_npa[image1_z,:,:],cmap=plt.cm.Greys_r);\n",
    "    plt.title('Image 1')\n",
    "    plt.axis('off')\n",
    "\n",
    "    if show_roi:\n",
    "        # Add a square to represent the cropping area for the first image\n",
    "        center1 = (image1_npa.shape[2] / 2, image1_npa.shape[1] / 2)\n",
    "        rect1 = patches.Rectangle((center1[0] - crop_size_x / 2 + offset_origin_x, center1[1] - crop_size_y / 2 + offset_origin_y), \n",
    "                                crop_size_x, crop_size_y, linewidth=1, edgecolor='r', facecolor='none')\n",
    "        ax1.add_patch(rect1)\n",
    "    \n",
    "    # Draw the moving image in the second subplot.\n",
    "    ax2 = plt.subplot(1,2,2)\n",
    "    plt.imshow(image2_npa[image2_z,:,:],cmap=plt.cm.Greys_r);\n",
    "    plt.title('Image 2')\n",
    "    plt.axis('off')\n",
    "\n",
    "    if show_roi:\n",
    "        # Add a square to represent the cropping area for the second image\n",
    "        center2 = (image2_npa.shape[2] / 2, image2_npa.shape[1] / 2)\n",
    "        rect2 = patches.Rectangle((center2[0] - crop_size_x / 2 + offset_origin_x, center2[1] - crop_size_y / 2 + offset_origin_y), \n",
    "                                crop_size_x, crop_size_y, linewidth=1, edgecolor='r', facecolor='none')\n",
    "        ax2.add_patch(rect2)\n",
    "    \n",
    "    plt.show()"
   ]
  },
  {
   "cell_type": "code",
   "execution_count": null,
   "metadata": {},
   "outputs": [],
   "source": [
    "image1 = sitk.ReadImage(\"/local_ssd/practical_wise24/prostate_cancer/mha_registered_images/BREST_131/Pelvis_t2_haste_fs_db_tra_p2_320.mha\", sitk.sitkFloat32) \n",
    "image2 = sitk.ReadImage(\"/local_ssd/practical_wise24/prostate_cancer/mha_registered_images/BREST_131/Pelvis_t2_spc_rst_tra_p2_iso.mha\", sitk.sitkFloat32) "
   ]
  },
  {
   "cell_type": "code",
   "execution_count": null,
   "metadata": {},
   "outputs": [],
   "source": [
    "\n",
    "interact(display_images, image1_z=(0,image1.GetSize()[2]-1), image2_z=(0,image2.GetSize()[2]-1), image1_npa = fixed(sitk.GetArrayViewFromImage(image1)), image2_npa=fixed(sitk.GetArrayViewFromImage(image2), show_roi=False));"
   ]
  },
  {
   "cell_type": "markdown",
   "metadata": {},
   "source": [
    "## Crop image"
   ]
  },
  {
   "cell_type": "code",
   "execution_count": null,
   "metadata": {},
   "outputs": [],
   "source": [
    "def crop_sitk_image_centered(sitk_image, offset, size):\n",
    "    # Get the size of the image\n",
    "    image_size = sitk_image.GetSize()\n",
    "\n",
    "    # Assume 3D image; for 2D, ignore the z-dimension\n",
    "    image_center = [image_size[i] // 2 for i in range(len(image_size))]\n",
    "\n",
    "    # Adjust the center by the offset\n",
    "    adjusted_center = [image_center[i] + offset[i] for i in range(len(offset))]\n",
    "\n",
    "    # Calculate the top-left corner of the crop region\n",
    "    start_point = [adjusted_center[i] - size[i] // 2 for i in range(len(size))]\n",
    "\n",
    "     # Using RegionOfInterest to crop the image\n",
    "    roi_filter = sitk.RegionOfInterestImageFilter()\n",
    "    roi_filter.SetSize(size)\n",
    "    roi_filter.SetIndex(start_point)\n",
    "    cropped_sitk_image = roi_filter.Execute(sitk_image)\n",
    "    return cropped_sitk_image"
   ]
  },
  {
   "cell_type": "markdown",
   "metadata": {},
   "source": [
    "### Crop all images"
   ]
  },
  {
   "cell_type": "code",
   "execution_count": null,
   "metadata": {},
   "outputs": [],
   "source": [
    "\n",
    "centered_dataset_path = '/local_ssd/practical_wise24/prostate_cancer/clean_dataset'\n",
    "# center_crop_dataset_path = './clean_dataset'\n",
    "root_dir = '/local_ssd/practical_wise24/prostate_cancer/mha_registered_images/' # should be this one change\n",
    "offset = (0, 0, 0)\n",
    "crop_size = (280, 280, 72)\n",
    "for patient_folder in os.listdir(root_dir):\n",
    "    files_path = os.path.join(root_dir, patient_folder)\n",
    "    write_file_path = os.path.join(center_crop_dataset_path, patient_folder)\n",
    "    for mha_file_name in os.listdir(files_path):\n",
    "        image = sitk.ReadImage(os.path.join(files_path, mha_file_name), sitk.sitkFloat32)\n",
    "        cropped_image = crop_sitk_image_centered(image, offset, crop_size)\n",
    "        if not os.path.exists(write_file_path):\n",
    "            os.makedirs(write_file_path)\n",
    "        sitk.WriteImage(cropped_image, os.path.join(write_file_path, mha_file_name))"
   ]
  },
  {
   "cell_type": "code",
   "execution_count": null,
   "metadata": {},
   "outputs": [],
   "source": []
  }
 ],
 "metadata": {
  "kernelspec": {
   "display_name": "ProstateCancer",
   "language": "python",
   "name": "python3"
  },
  "language_info": {
   "codemirror_mode": {
    "name": "ipython",
    "version": 3
   },
   "file_extension": ".py",
   "mimetype": "text/x-python",
   "name": "python",
   "nbconvert_exporter": "python",
   "pygments_lexer": "ipython3",
   "version": "3.11.5"
  }
 },
 "nbformat": 4,
 "nbformat_minor": 2
}
