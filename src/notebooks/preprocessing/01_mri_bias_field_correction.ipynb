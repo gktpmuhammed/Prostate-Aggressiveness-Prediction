{
 "cells": [
  {
   "cell_type": "markdown",
   "metadata": {},
   "source": [
    "# (Optional) Bias Field Correction + Pixel normalization\n",
    "\n",
    "Iterates over the whole dataset and corrects the bias error of MRI images.\n",
    "Bias Field correction might take a few hours\n",
    "\n",
    "Everything is saved on new corrected dataset: mha_corrected_images"
   ]
  },
  {
   "cell_type": "code",
   "execution_count": 3,
   "metadata": {},
   "outputs": [],
   "source": [
    "import os\n",
    "import pandas as pd\n",
    "import matplotlib.pyplot as plt\n",
    "import numpy as np\n",
    "from ipywidgets import interactive, widgets, Layout, HBox, VBox, Label, interact, fixed\n",
    "from IPython.display import display, clear_output\n",
    "import itk\n",
    "import SimpleITK as sitk\n",
    "from concurrent.futures import ProcessPoolExecutor"
   ]
  },
  {
   "cell_type": "code",
   "execution_count": 4,
   "metadata": {},
   "outputs": [],
   "source": [
    "def correct_bias_field(raw_img_sitk):\n",
    "    # create head mask\n",
    "    transformed = sitk.RescaleIntensity(raw_img_sitk, 0, 255)\n",
    "\n",
    "    transformed = sitk.LiThreshold(transformed,0,1)\n",
    "\n",
    "    head_mask = transformed\n",
    "\n",
    "    #bias correction\n",
    "    shrinkFactor = 4\n",
    "    inputImage = raw_img_sitk\n",
    "\n",
    "    inputImage = sitk.Shrink( raw_img_sitk, [ shrinkFactor ] * inputImage.GetDimension() )\n",
    "    maskImage = sitk.Shrink( head_mask, [ shrinkFactor ] * inputImage.GetDimension() )\n",
    "\n",
    "    bias_corrector = sitk.N4BiasFieldCorrectionImageFilter()\n",
    "\n",
    "    corrected = bias_corrector.Execute(inputImage, maskImage)\n",
    "\n",
    "    # get image corrected\n",
    "    log_bias_field = bias_corrector.GetLogBiasFieldAsImage(raw_img_sitk)\n",
    "    corrected_image_full_resolution = raw_img_sitk / sitk.Exp( log_bias_field )\n",
    "    # bias field\n",
    "    temp = sitk.Exp(log_bias_field)\n",
    "    bias_field_image = sitk.Mask(temp, head_mask)\n",
    "    return corrected_image_full_resolution, bias_field_image"
   ]
  },
  {
   "cell_type": "code",
   "execution_count": 5,
   "metadata": {},
   "outputs": [],
   "source": [
    "def normalize(arr, N=255, eps=1e-6):\n",
    "    \"\"\"\n",
    "    TO normalize an image by mapping its [Min,Max] into the interval [0,255]\n",
    "    :param arr: Input (2D or 3D) array of image\n",
    "    :param N: Scaling factor\n",
    "    :param eps:\n",
    "    :return: Normalized Image\n",
    "    \"\"\"\n",
    "    # N=255\n",
    "    # eps=1e-6\n",
    "    arr = arr.astype(np.float32)\n",
    "    output = N*(arr-np.min(arr))/(np.max(arr)-np.min(arr)+eps)\n",
    "    return output"
   ]
  },
  {
   "cell_type": "code",
   "execution_count": 6,
   "metadata": {},
   "outputs": [],
   "source": [
    "def process_image(input_image, output_path, is_pet):\n",
    "    data = sitk.GetArrayFromImage(input_image)\n",
    "    # shift the data up so that all intensity values turn positive\n",
    "    data -= np.min(data)\n",
    "    # Removing the outliers with a probability of occuring less than 5e-3 through histogram computation\n",
    "    histo, bins = np.histogram(data.flatten(), 10)\n",
    "    histo = normalize(histo)\n",
    "    Bin = bins[np.min(np.where(histo < 5e-3))]\n",
    "    data = np.clip(data, 0, Bin)\n",
    "    image = sitk.GetImageFromArray(data)\n",
    "    image.SetSpacing(input_image.GetSpacing())\n",
    "    image.SetOrigin(input_image.GetOrigin())\n",
    "    image.SetDirection(input_image.GetDirection())\n",
    "\n",
    "    if is_pet:\n",
    "        # If it's a PET image, just write it to the output path\n",
    "        sitk.WriteImage(image, output_path)\n",
    "    else:\n",
    "        # If it's not a PET image, apply bias field correction\n",
    "\n",
    "        # UNCOMMENT NEXT TWO LINES TO APPLY BIAS FIELD CORRECTION\n",
    "        # corrected_image, _ = correct_bias_field(image)\n",
    "        # sitk.WriteImage(corrected_image, output_path)\n",
    "\n",
    "        sitk.WriteImage(image, output_path)"
   ]
  },
  {
   "cell_type": "markdown",
   "metadata": {},
   "source": [
    "### Iterate over all patients mri and correct them"
   ]
  },
  {
   "cell_type": "code",
   "execution_count": 7,
   "metadata": {},
   "outputs": [],
   "source": [
    "corrected_dataset_path = '/local_ssd/practical_wise24/prostate_cancer/mha_corrected_images/'\n",
    "# corrected_dataset_path = './mha_corrected_images/'\n",
    "root_dir = '../../../data/ProstateData/BREST patients/'\n",
    "mha_images_path = '/local_ssd/practical_wise24/prostate_cancer/mha_raw_images'\n",
    "# mha_images_path = './mha_raw_images'"
   ]
  },
  {
   "cell_type": "code",
   "execution_count": 8,
   "metadata": {},
   "outputs": [],
   "source": [
    "with ProcessPoolExecutor(max_workers=os.cpu_count()) as executor:\n",
    "    for patient_folder in os.listdir(root_dir):\n",
    "        files_path = os.path.join(mha_images_path, patient_folder)\n",
    "        write_file_path = os.path.join(corrected_dataset_path, patient_folder)\n",
    "\n",
    "        if not os.path.exists(write_file_path):\n",
    "            os.makedirs(write_file_path)\n",
    "        else:\n",
    "            continue # we assume that if the folder exists it has already the corrected files\n",
    "\n",
    "        tasks = []\n",
    "\n",
    "        for mha_file_name in os.listdir(files_path):\n",
    "            image = sitk.ReadImage(os.path.join(files_path, mha_file_name), sitk.sitkFloat32)\n",
    "            output_path = os.path.join(write_file_path, mha_file_name)\n",
    "            is_pet = 'PET' in mha_file_name\n",
    "            task = executor.submit(process_image, image, output_path, is_pet)\n",
    "            tasks.append(task)\n",
    "\n",
    "        # Wait for all tasks to complete\n",
    "        for task in tasks:\n",
    "            task.result()"
   ]
  },
  {
   "cell_type": "markdown",
   "metadata": {},
   "source": [
    "#### Check all files are created in the corrected dataset"
   ]
  },
  {
   "cell_type": "code",
   "execution_count": 11,
   "metadata": {},
   "outputs": [],
   "source": [
    "raw_dir = '/local_ssd/practical_wise24/prostate_cancer/mha_raw_images/'\n",
    "corrected_dir = '/local_ssd/practical_wise24/prostate_cancer/mha_corrected_images/'\n",
    "# raw_dir = './mha_raw_images/'\n",
    "# corrected_dir = './mha_corrected_images/'\n",
    "for patient_folder in os.listdir(raw_dir):\n",
    "    raw_files_path = os.path.join(raw_dir, patient_folder)\n",
    "    corrected_files_path = os.path.join(corrected_dir, patient_folder)\n",
    "\n",
    "    if not os.path.exists(corrected_files_path):\n",
    "        print('Directory does not exist: ' + corrected_files_path)\n",
    "    else:\n",
    "        if len(os.listdir(raw_files_path)) != len(os.listdir(corrected_files_path)):\n",
    "            print(os.listdir(raw_files_path))\n",
    "            print('-'* 30)\n",
    "            print(os.listdir(corrected_files_path))\n",
    "            print('*'*30)"
   ]
  },
  {
   "cell_type": "code",
   "execution_count": null,
   "metadata": {},
   "outputs": [],
   "source": []
  }
 ],
 "metadata": {
  "kernelspec": {
   "display_name": "ProstateCancer",
   "language": "python",
   "name": "python3"
  },
  "language_info": {
   "codemirror_mode": {
    "name": "ipython",
    "version": 3
   },
   "file_extension": ".py",
   "mimetype": "text/x-python",
   "name": "python",
   "nbconvert_exporter": "python",
   "pygments_lexer": "ipython3",
   "version": "3.11.5"
  }
 },
 "nbformat": 4,
 "nbformat_minor": 2
}
