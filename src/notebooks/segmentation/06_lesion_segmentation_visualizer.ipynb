{
 "cells": [
  {
   "cell_type": "markdown",
   "metadata": {},
   "source": [
    "# Visualizer for Original Lesion Segmentations"
   ]
  },
  {
   "cell_type": "code",
   "execution_count": null,
   "metadata": {},
   "outputs": [],
   "source": [
    "import os\n",
    "import matplotlib.pyplot as plt\n",
    "import numpy as np\n",
    "import nibabel as nib\n",
    "from ipywidgets import interactive, widgets\n",
    "from IPython.display import display"
   ]
  },
  {
   "cell_type": "code",
   "execution_count": null,
   "metadata": {},
   "outputs": [],
   "source": [
    "# Function to plot an image from a list at a specified index\n",
    "def plot_image(list_of_images, list_of_masks, image_idx, mask_transparency):\n",
    "    original_image = np.rot90(list_of_images[image_idx], k=3)\n",
    "    mask = np.rot90(list_of_masks[image_idx], k=3)\n",
    "\n",
    "    # Overlay the mask on the original image\n",
    "    masked_image = np.ma.masked_where(mask == 0, original_image)\n",
    "    \n",
    "    plt.imshow(original_image, cmap='gray')\n",
    "    plt.imshow(masked_image, cmap='jet', alpha=mask_transparency)  # Adjust alpha for transparency\n",
    "    plt.axis('off')  # Turn off axis numbers\n",
    "    plt.show()\n",
    "\n",
    "# Function to get a transparency scale widget\n",
    "def get_transparency_scale():\n",
    "    return widgets.FloatSlider(\n",
    "        value=0.5,\n",
    "        min=0,\n",
    "        max=1,\n",
    "        step=0.1,\n",
    "        description='Mask Transparency:',\n",
    "        continuous_update=False\n",
    "    )\n",
    "\n",
    "# Function to get a slider widget\n",
    "def get_slider(max_value):\n",
    "    return widgets.IntSlider(\n",
    "        value=0,\n",
    "        min=0,\n",
    "        max=max_value,\n",
    "        step=1,\n",
    "        description='Image Index:',\n",
    "        continuous_update=False\n",
    "    )\n",
    "\n",
    "# Wrapper function to create an interactive plot with a list of images\n",
    "def create_interactive_plot(list_of_images, list_of_masks, title):\n",
    "    slider = get_slider(len(list_of_images) - 1)\n",
    "    transparency_scale = get_transparency_scale()\n",
    "    interactive_plot = interactive(plot_image, list_of_images=widgets.fixed(list_of_images), list_of_masks=widgets.fixed(list_of_masks), \n",
    "                                    mask_transparency=transparency_scale, image_idx=slider)\n",
    "    # Display the title as a text above the plot\n",
    "    display(widgets.Label(value=f'\\n{title}', style={'description_width': 'initial'}))\n",
    "    display(interactive_plot)\n",
    "\n",
    "def plot_interactive_plot(original_path, mask_path, patient_number, is_cropped):\n",
    "    \n",
    "    # Load the common mask file\n",
    "    common_mask_image = nib.load(mask_path).get_fdata()\n",
    "\n",
    "    original_image = nib.load(original_path).get_fdata()\n",
    "    original_images_to_slide_over = [original_image[:, :, i] for i in range(original_image.shape[2])]\n",
    "\n",
    "    # Use the common mask for all original images\n",
    "    mask_images_to_slide_over = [common_mask_image[:, :, i] for i in range(common_mask_image.shape[2])]\n",
    "\n",
    "    create_interactive_plot(original_images_to_slide_over, mask_images_to_slide_over, \"T2W\")\n"
   ]
  },
  {
   "cell_type": "markdown",
   "metadata": {},
   "source": [
    "Private dataset lesion segmentations can be visualized by providing patient id."
   ]
  },
  {
   "cell_type": "code",
   "execution_count": null,
   "metadata": {},
   "outputs": [],
   "source": [
    "patient = \"001\"\n",
    "original_path = f'/local_ssd/practical_wise24/prostate_cancer/NNUNet_Lesion/nnUNet_raw/Dataset777_ProstateLesion/imagesTs/{patient}_{patient}_0000.nii.gz'\n",
    "mask_path = f'/local_ssd/practical_wise24/prostate_cancer/NNUNet_Lesion/Private_Dataset_Segmentation_Results/{patient}_{patient}.nii.gz'\n",
    "plot_interactive_plot(original_path, mask_path, patient, is_cropped=False)"
   ]
  }
 ],
 "metadata": {
  "kernelspec": {
   "display_name": "Python 3 (ipykernel)",
   "language": "python",
   "name": "python3"
  }
 },
 "nbformat": 4,
 "nbformat_minor": 2
}
