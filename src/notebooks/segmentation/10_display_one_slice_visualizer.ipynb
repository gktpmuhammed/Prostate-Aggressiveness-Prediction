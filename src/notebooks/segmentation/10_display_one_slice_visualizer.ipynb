{
 "cells": [
  {
   "cell_type": "markdown",
   "metadata": {},
   "source": [
    "# Displaying One Slice from Each Dataset We Used on Classification"
   ]
  },
  {
   "cell_type": "code",
   "execution_count": null,
   "metadata": {},
   "outputs": [],
   "source": [
    "import nibabel as nib\n",
    "import matplotlib.pyplot as plt\n",
    "import numpy as np"
   ]
  },
  {
   "cell_type": "code",
   "execution_count": null,
   "metadata": {},
   "outputs": [],
   "source": [
    "def display_mri_with_mask(mri_path, mask_path, title, display_mask):\n",
    "    # Load the MRI and mask images\n",
    "    mri_img = nib.load(mri_path)\n",
    "    mask_img = nib.load(mask_path)\n",
    "\n",
    "    # Get the data arrays from the images\n",
    "    mri_data = mri_img.get_fdata()\n",
    "    mask_data = mask_img.get_fdata()\n",
    "\n",
    "    if not display_mask:\n",
    "        # Display the original MRI image\n",
    "        plt.figure(figsize=(10, 5))\n",
    "        plt.imshow(np.rot90(mri_data[:, :, mri_data.shape[2] // 2], k=3), cmap='gray')\n",
    "        plt.title(title)\n",
    "        plt.axis('off')\n",
    "    else:        \n",
    "        plt.imshow(np.rot90(mri_data[:, :, mri_data.shape[2] // 2], k=3), cmap='gray')\n",
    "        plt.imshow(np.rot90(mask_data[:, :, mri_data.shape[2] // 2], k=3),\n",
    "            alpha=0.5 * (np.rot90(mask_data[:, :, mri_data.shape[2] // 2] > 0, k=3)),\n",
    "            interpolation=None, cmap='jet')\n",
    "        plt.title(title)\n",
    "        plt.axis('off')\n",
    "\n",
    "    plt.show()"
   ]
  },
  {
   "cell_type": "markdown",
   "metadata": {},
   "source": [
    "Cropped tumor with black background."
   ]
  },
  {
   "cell_type": "code",
   "execution_count": null,
   "metadata": {},
   "outputs": [],
   "source": [
    "original_path = \"/local_ssd/practical_wise24/prostate_cancer/NNUNet_Lesion/Picai_Extracted_Regions/10005/10005_1000005_0000.nii.gz\"\n",
    "mask_path = \"/local_ssd/practical_wise24/prostate_cancer/NNUNet_Lesion/Picai_Extracted_Regions/10005/10005_1000005.nii.gz\"\n",
    "title = 'Cropped Tumor'\n",
    "display_mri_with_mask(original_path, mask_path, title, display_mask=False)"
   ]
  },
  {
   "cell_type": "markdown",
   "metadata": {},
   "source": [
    "Cropped prostate gland together with tumor."
   ]
  },
  {
   "cell_type": "code",
   "execution_count": null,
   "metadata": {},
   "outputs": [],
   "source": [
    "original_path = \"/local_ssd/practical_wise24/prostate_cancer/NNUNet_Lesion/Picai_Extracted_1_Slice/10005/10005_1000005_0000.nii.gz\"\n",
    "mask_path = \"/local_ssd/practical_wise24/prostate_cancer/NNUNet_Lesion/Picai_Extracted_1_Slice/10005/10005_1000005.nii.gz\"\n",
    "title = 'Cropped Prostate with Tumor'\n",
    "display_mri_with_mask(original_path, mask_path, title, display_mask=True)"
   ]
  },
  {
   "cell_type": "markdown",
   "metadata": {},
   "source": [
    "Cropped prostate gland with transitional zone and peripheral zone."
   ]
  },
  {
   "cell_type": "code",
   "execution_count": null,
   "metadata": {},
   "outputs": [],
   "source": [
    "original_path = \"/local_ssd/practical_wise24/prostate_cancer/NNUNetModel/Extracted_Prostate_Gland/10005/10005_1000005_0000.nii.gz\"\n",
    "mask_path = \"/local_ssd/practical_wise24/prostate_cancer/NNUNetModel/Extracted_Prostate_Gland/10005/10005_1000005.nii.gz\"\n",
    "title = 'Cropped Prostate Gland'\n",
    "display_mri_with_mask(original_path, mask_path, title, display_mask=True)"
   ]
  }
 ],
 "metadata": {
  "kernelspec": {
   "display_name": "Python 3 (ipykernel)",
   "language": "python",
   "name": "python3"
  },
  "language_info": {
   "codemirror_mode": {
    "name": "ipython",
    "version": 3
   },
   "file_extension": ".py",
   "mimetype": "text/x-python",
   "name": "python",
   "nbconvert_exporter": "python",
   "pygments_lexer": "ipython3",
   "version": "3.11.5"
  }
 },
 "nbformat": 4,
 "nbformat_minor": 2
}
