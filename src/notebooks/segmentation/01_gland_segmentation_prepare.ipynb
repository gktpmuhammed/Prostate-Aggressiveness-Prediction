{
 "cells": [
  {
   "cell_type": "markdown",
   "metadata": {},
   "source": [
    "# Data Preparation for Prostate Gland Segmentation"
   ]
  },
  {
   "cell_type": "code",
   "execution_count": null,
   "metadata": {},
   "outputs": [],
   "source": [
    "import os\n",
    "from pathlib import Path\n",
    "import shutil\n",
    "import json\n",
    "import SimpleITK as sitk\n",
    "from picai_prep import MHA2nnUNetConverter"
   ]
  },
  {
   "cell_type": "markdown",
   "metadata": {},
   "source": [
    "We need T2w, ADC and DWI(HBV) modalities of each patient. We will select them and put them in a new directory. Files will be renamed based on the convention that nnunet used in pretrained prostate model. Voxel spacing would be set to [0.5,0.5,3] and they will be cropped to (320,320,20) to have a fixed shape on all data.\n",
    "\n",
    "Eg. xxx_xxx_0000.nii.gz for t2w, xxx_xxx_0001.nii.gz for adc and xxx_xxx_0002.nii.gz for hbv."
   ]
  },
  {
   "cell_type": "code",
   "execution_count": null,
   "metadata": {},
   "outputs": [],
   "source": [
    "def prepare_test_data_with_picai_pipeline(source_dir, base_dir, json_path, preprocessed_path, is_resample):\n",
    "    from picai_prep.examples.mha2nnunet.picai_archive_inference import generate_mha2nnunet_settings\n",
    "\n",
    "    subject_list = os.listdir(source_dir)\n",
    "    mapping = {\"Pelvis_t2_spc_rst_tra_p2_iso.mha\": \"t2w\", \"Pelvis_ep2d_diff_tra_ADC.mha\": \"adc\", \"Pelvis_ep2d_diff_tra.mha\": \"hbv\"}\n",
    "\n",
    "    for subject in subject_list:\n",
    "        study_dir = os.path.join(source_dir,subject)\n",
    "        scan_paths = [\n",
    "            f\"{modality}.mha\"\n",
    "            for modality in [\"Pelvis_t2_spc_rst_tra_p2_iso\", \"Pelvis_ep2d_diff_tra_ADC\", \"Pelvis_ep2d_diff_tra\"]\n",
    "        ]\n",
    "        all_scans_found = all([\n",
    "            os.path.exists(os.path.join(study_dir, path))\n",
    "            for path in scan_paths\n",
    "        ])\n",
    "\n",
    "        if all_scans_found:\n",
    "            for sequence_name, abbreviation in mapping.items():\n",
    "                source_path = os.path.join(study_dir,sequence_name)\n",
    "                filename = f'{subject[-3:]}_{subject[-3:]}_{abbreviation}.mha'\n",
    "                destination_path = os.path.join(base_dir,subject[-3:],filename)\n",
    "                os.makedirs(os.path.join(base_dir,subject[-3:]), exist_ok=True)\n",
    "                shutil.copy(source_path, destination_path)\n",
    "\n",
    "    generate_mha2nnunet_settings(\n",
    "        archive_dir = base_dir,\n",
    "        output_path = json_path,\n",
    "        task = \"Private_Dataset\"\n",
    "    )\n",
    "\n",
    "    json_file = json_path\n",
    "    f = open(json_file)\n",
    "    data = json.load(f)\n",
    "    f.close()\n",
    "    if is_resample:\n",
    "        data[\"preprocessing\"] = {\n",
    "            # optionally, resample and perform centre crop:\n",
    "            \"matrix_size\": [\n",
    "                20,\n",
    "                320,\n",
    "                320\n",
    "            ],\n",
    "            \"spacing\": [\n",
    "                3.0,\n",
    "                0.5,\n",
    "                0.5\n",
    "            ]\n",
    "        }\n",
    "    else:\n",
    "        data[\"preprocessing\"] = {}\n",
    "        \n",
    "    with open(json_file, \"w\") as outfile:\n",
    "        json.dump(data, outfile, indent=4)\n",
    "    \n",
    "    archive = MHA2nnUNetConverter(\n",
    "        scans_dir = base_dir,\n",
    "        output_dir = preprocessed_path,\n",
    "        mha2nnunet_settings = json_path,\n",
    "    )\n",
    "    archive.convert()"
   ]
  },
  {
   "cell_type": "markdown",
   "metadata": {},
   "source": [
    "Registered data will be processed."
   ]
  },
  {
   "cell_type": "code",
   "execution_count": null,
   "metadata": {},
   "outputs": [],
   "source": [
    "source_dir = \"/local_ssd/practical_wise24/prostate_cancer/clean_dataset\"\n",
    "base_dir = \"/local_ssd/practical_wise24/prostate_cancer/NNUNetModel/Private_Dataset_Registered\"\n",
    "preprocessed_path = \"/local_ssd/practical_wise24/prostate_cancer/NNUNetModel/Private_Dataset_Registered_Preprocessed\"\n",
    "json_path = \"/local_ssd/practical_wise24/prostate_cancer/NNUNetModel/mha2nnunet_settings_private_dataset_registered.json\"\n",
    "prepare_test_data_with_picai_pipeline(source_dir, base_dir, json_path, preprocessed_path, is_resample=True)"
   ]
  },
  {
   "cell_type": "markdown",
   "metadata": {},
   "source": [
    "Unregistered data will be processed and voxel spacing and resolution will be changed."
   ]
  },
  {
   "cell_type": "code",
   "execution_count": null,
   "metadata": {},
   "outputs": [],
   "source": [
    "source_dir = \"/local_ssd/practical_wise24/prostate_cancer/mha_raw_images\"\n",
    "base_dir = \"/local_ssd/practical_wise24/prostate_cancer/NNUNet_Lesion/Private_Dataset\"\n",
    "preprocessed_path = \"/local_ssd/practical_wise24/prostate_cancer/NNUNet_Lesion/Private_Dataset_Preprocessed_2\"\n",
    "json_path = \"/local_ssd/practical_wise24/prostate_cancer/NNUNet_Lesion/mha2nnunet_settings_private_dataset.json\"\n",
    "prepare_test_data_with_picai_pipeline(source_dir, base_dir, json_path, preprocessed_path, is_resample=True)"
   ]
  },
  {
   "cell_type": "markdown",
   "metadata": {},
   "source": [
    "Unregistered data will be processed but voxel spacing and resolution will not be changed."
   ]
  },
  {
   "cell_type": "code",
   "execution_count": null,
   "metadata": {},
   "outputs": [],
   "source": [
    "source_dir = \"/local_ssd/practical_wise24/prostate_cancer/mha_raw_images\"\n",
    "base_dir = \"/local_ssd/practical_wise24/prostate_cancer/NNUNet_Lesion/Private_Dataset\"\n",
    "preprocessed_path = \"/local_ssd/practical_wise24/prostate_cancer/NNUNet_Lesion/Private_Dataset_Preprocessed\"\n",
    "json_path = \"/local_ssd/practical_wise24/prostate_cancer/NNUNet_Lesion/mha2nnunet_settings_private_dataset_no_resize.json\"\n",
    "prepare_test_data_with_picai_pipeline(source_dir, base_dir, json_path, preprocessed_path, is_resample=False)"
   ]
  },
  {
   "cell_type": "code",
   "execution_count": null,
   "metadata": {},
   "outputs": [],
   "source": [
    "def copy_and_create_dataset_json(source_directory,destination_directory,json_file): \n",
    "\n",
    "    # Ensure the source directory exists\n",
    "    if os.path.exists(source_directory) and os.path.isdir(source_directory):\n",
    "        # Ensure the destination directory exists, create it if not\n",
    "        if not os.path.exists(destination_directory):\n",
    "            os.makedirs(destination_directory)\n",
    "\n",
    "        # Get a list of all files in the source directory\n",
    "        files = [f for f in os.listdir(source_directory) if os.path.isfile(os.path.join(source_directory, f)) and not f.endswith(\"0002.nii.gz\")]\n",
    "\n",
    "        # Copy each file to the destination directory\n",
    "        for file in files:\n",
    "            source_file_path = os.path.join(source_directory, file)\n",
    "            destination_file_path = os.path.join(destination_directory, file)\n",
    "            shutil.copy2(source_file_path, destination_file_path)  # shutil.copy2 preserves metadata\n",
    "\n",
    "        print(\"Files copied successfully.\")\n",
    "    else:\n",
    "        print(\"Source directory does not exist.\")\n",
    "\n",
    "    f = open(json_file)\n",
    "    \n",
    "    # returns JSON object as a dictionary\n",
    "    data = json.load(f)\n",
    "    f.close()\n",
    "    files = os.listdir(destination_directory)\n",
    "    brest_patients = set()\n",
    "    for file in files: \n",
    "        brest_patients.add(file[:-12])\n",
    "    data['numTest'] = len(brest_patients)\n",
    "    data['test'] = [f\"./imagesTs/{i}.nii.gz\" for i in brest_patients]\n",
    "\n",
    "    with open(json_file, \"w\") as outfile:\n",
    "        json.dump(data, outfile, indent=4)"
   ]
  },
  {
   "cell_type": "markdown",
   "metadata": {},
   "source": [
    "Preprocessed data will be transfered to the prostate gland segmentation folder for inference and dataset.json file will be updated."
   ]
  },
  {
   "cell_type": "code",
   "execution_count": null,
   "metadata": {},
   "outputs": [],
   "source": [
    "source_directory = \"/local_ssd/practical_wise24/prostate_cancer/NNUNetModel/Private_Dataset_Registered_Preprocessed/Private_Dataset/imagesTr\"\n",
    "destination_directory = \"/local_ssd/practical_wise24/prostate_cancer/NNUNetModel/nnUNet_raw_data_base/nnUNet_raw_data/Task005_Prostate/imagesTs\"\n",
    "json_file = \"/local_ssd/practical_wise24/prostate_cancer/NNUNetModel/nnUNet_raw_data_base/nnUNet_raw_data/Task005_Prostate/dataset.json\"\n",
    "copy_and_create_dataset_json(source_directory,destination_directory,json_file)"
   ]
  },
  {
   "cell_type": "markdown",
   "metadata": {},
   "source": [
    "Picai dataset that is annotated by AI will be preprocessed. Voxel spacing and resolution will be set to the provided values."
   ]
  },
  {
   "cell_type": "code",
   "execution_count": null,
   "metadata": {},
   "outputs": [],
   "source": [
    "def convert_picai_ai_annotated_data_to_nnunet_raw_format():\n",
    "    from picai_prep.examples.mha2nnunet.picai_archive import generate_mha2nnunet_settings\n",
    "\n",
    "    generate_mha2nnunet_settings(\n",
    "        archive_dir = \"/local_ssd/practical_wise24/prostate_cancer/PICAIDataset/input/images\",\n",
    "        annotations_dir = \"/local_ssd/practical_wise24/prostate_cancer/PICAIDataset/input/picai_labels/csPCa_lesion_delineations/AI/Bosma22a\",\n",
    "        output_path = \"/local_ssd/practical_wise24/prostate_cancer/NNUNetModel/mha2nnunet_settings_ai.json\",\n",
    "        task = \"Dataset950_ProstateLesion\"\n",
    "    )\n",
    "\n",
    "    json_file = \"/local_ssd/practical_wise24/prostate_cancer/NNUNetModel/mha2nnunet_settings_ai.json\"\n",
    "    \n",
    "    f = open(json_file)\n",
    "    data = json.load(f)\n",
    "    f.close()\n",
    "    data[\"preprocessing\"] = {\n",
    "        # optionally, resample and perform centre crop:\n",
    "        \"matrix_size\": [\n",
    "            20,\n",
    "            320,\n",
    "            320\n",
    "        ],\n",
    "        \"spacing\": [\n",
    "            3.0,\n",
    "            0.5,\n",
    "            0.5\n",
    "        ]\n",
    "    }\n",
    "    with open(json_file, \"w\") as outfile:\n",
    "        json.dump(data, outfile, indent=4)\n",
    "\n",
    "    archive = MHA2nnUNetConverter(\n",
    "        scans_dir=\"/local_ssd/practical_wise24/prostate_cancer/PICAIDataset/input/images\",\n",
    "        annotations_dir = \"/local_ssd/practical_wise24/prostate_cancer/PICAIDataset/input/picai_labels/csPCa_lesion_delineations/AI/Bosma22a\",\n",
    "        output_dir=\"/local_ssd/practical_wise24/prostate_cancer/NNUNet_Lesion/nnUNet_raw\",\n",
    "        mha2nnunet_settings=\"/local_ssd/practical_wise24/prostate_cancer/NNUNetModel/mha2nnunet_settings_ai.json\",\n",
    "    )\n",
    "    archive.convert()\n",
    "    archive.create_dataset_json()"
   ]
  },
  {
   "cell_type": "code",
   "execution_count": null,
   "metadata": {},
   "outputs": [],
   "source": [
    "convert_picai_ai_annotated_data_to_nnunet_raw_format()"
   ]
  },
  {
   "cell_type": "markdown",
   "metadata": {},
   "source": [
    "Picai dataset that is annotated by human experts will be preprocessed. Voxel spacing and resolution will be set to the provided values."
   ]
  },
  {
   "cell_type": "code",
   "execution_count": null,
   "metadata": {},
   "outputs": [],
   "source": [
    "def convert_picai_human_annotated_data_to_nnunet_raw_format():\n",
    "    from picai_prep.examples.mha2nnunet.picai_archive import generate_mha2nnunet_settings\n",
    "\n",
    "    generate_mha2nnunet_settings(\n",
    "        archive_dir = \"/local_ssd/practical_wise24/prostate_cancer/PICAIDataset/input/images\",\n",
    "        annotations_dir = \"/local_ssd/practical_wise24/prostate_cancer/PICAIDataset/input/picai_labels/csPCa_lesion_delineations/human_expert/resampled\",\n",
    "        output_path = \"/local_ssd/practical_wise24/prostate_cancer/NNUNetModel/mha2nnunet_settings_human.json\",\n",
    "        task = \"Dataset999_ProstateLesion\"\n",
    "    )\n",
    "\n",
    "    json_file = \"/local_ssd/practical_wise24/prostate_cancer/NNUNetModel/mha2nnunet_settings_human.json\"\n",
    "    \n",
    "    f = open(json_file)\n",
    "    data = json.load(f)\n",
    "    f.close()\n",
    "    data[\"preprocessing\"] = {\n",
    "        # optionally, resample and perform centre crop:\n",
    "        \"matrix_size\": [\n",
    "            20,\n",
    "            320,\n",
    "            320\n",
    "        ],\n",
    "        \"spacing\": [\n",
    "            3.0,\n",
    "            0.5,\n",
    "            0.5\n",
    "        ]\n",
    "    }\n",
    "    with open(json_file, \"w\") as outfile:\n",
    "        json.dump(data, outfile, indent=4)\n",
    "\n",
    "    archive = MHA2nnUNetConverter(\n",
    "        scans_dir=\"/local_ssd/practical_wise24/prostate_cancer/PICAIDataset/input/images\",\n",
    "        annotations_dir=\"/local_ssd/practical_wise24/prostate_cancer/PICAIDataset/input/picai_labels/csPCa_lesion_delineations/human_expert/resampled\",  # defaults to input_path\n",
    "        output_dir=\"/local_ssd/practical_wise24/prostate_cancer/NNUNet_Lesion/nnUNet_raw\",\n",
    "        mha2nnunet_settings=\"/local_ssd/practical_wise24/prostate_cancer/NNUNetModel/mha2nnunet_settings_human.json\",\n",
    "    )\n",
    "    archive.convert()\n",
    "    archive.create_dataset_json()"
   ]
  },
  {
   "cell_type": "code",
   "execution_count": null,
   "metadata": {},
   "outputs": [],
   "source": [
    "convert_picai_human_annotated_data_to_nnunet_raw_format()"
   ]
  },
  {
   "cell_type": "markdown",
   "metadata": {},
   "source": [
    "Patients that has mask in their labels are selected."
   ]
  },
  {
   "cell_type": "code",
   "execution_count": null,
   "metadata": {},
   "outputs": [],
   "source": [
    "def get_file_names(path):\n",
    "    files = os.listdir(path)\n",
    "    patient_list = list()\n",
    "    for file in files:\n",
    "        if file.endswith('.nii.gz'):\n",
    "            image = sitk.ReadImage(os.path.join(path, file))\n",
    "            image_array = sitk.GetArrayFromImage(image)\n",
    "\n",
    "            # Check if any pixel value is non-zero\n",
    "            if any(image_array.flatten()):\n",
    "                filename = file.split('_')[0]\n",
    "                patient_list.append(filename)\n",
    "\n",
    "    print(len(patient_list))\n",
    "    return patient_list\n",
    "\n",
    "source_path_human = '/local_ssd/practical_wise24/prostate_cancer/NNUNet_Lesion/nnUNet_raw/Dataset999_ProstateLesion/labelsTr'\n",
    "patients_with_mask_human = get_file_names(source_path_human)\n",
    "\n",
    "source_path_ai = '/local_ssd/practical_wise24/prostate_cancer/NNUNet_Lesion/nnUNet_raw/Dataset950_ProstateLesion/labelsTr'\n",
    "patients_with_mask_ai = get_file_names(source_path_ai)\n",
    "filtered_ai_list = list(filter(lambda value: value not in patients_with_mask_human, patients_with_mask_ai))\n"
   ]
  },
  {
   "cell_type": "markdown",
   "metadata": {},
   "source": [
    "Selected patients data transferred to training folder."
   ]
  },
  {
   "cell_type": "code",
   "execution_count": null,
   "metadata": {},
   "outputs": [],
   "source": [
    "import shutil\n",
    "\n",
    "def copy_human_or_ai(source_path,output_path,dirs):\n",
    "    main_files = os.listdir(os.path.join(source_path, \"imagesTr\"))\n",
    "    label_files = os.listdir(os.path.join(source_path, \"labelsTr\"))\n",
    "\n",
    "    for d in dirs:\n",
    "        files = [file for file in main_files if file.startswith(d)]\n",
    "        for file in files:\n",
    "            src = os.path.join(source_path,\"imagesTr\",file)\n",
    "            dst = os.path.join(output_path,\"imagesTr\",file)\n",
    "            shutil.copy(src,dst)\n",
    "        label = [file for file in label_files if file.startswith(d)]\n",
    "        for file in label:\n",
    "            src = os.path.join(source_path,\"labelsTr\",file)\n",
    "            dst = os.path.join(output_path,\"labelsTr\",file)\n",
    "            shutil.copy(src,dst)\n",
    "\n",
    "human_path = \"/local_ssd/practical_wise24/prostate_cancer/NNUNet_Lesion/nnUNet_raw/Dataset999_ProstateLesion\"\n",
    "ai_path = \"/local_ssd/practical_wise24/prostate_cancer/NNUNet_Lesion/nnUNet_raw/Dataset950_ProstateLesion\"\n",
    "output_path = \"/local_ssd/practical_wise24/prostate_cancer/NNUNet_Lesion/nnUNet_raw/Dataset600_Hum_AI\"\n",
    "Path(os.path.join(output_path, \"imagesTr\")).mkdir(parents=True, exist_ok=True)\n",
    "Path(os.path.join(output_path, \"imagesTs\")).mkdir(parents=True, exist_ok=True)\n",
    "Path(os.path.join(output_path, \"labelsTr\")).mkdir(parents=True, exist_ok=True)\n",
    "\n",
    "copy_human_or_ai(human_path,output_path,patients_with_mask_human)\n",
    "copy_human_or_ai(ai_path,output_path,filtered_ai_list)"
   ]
  },
  {
   "cell_type": "markdown",
   "metadata": {},
   "source": [
    "Patient files copied and dataset.json file updated."
   ]
  },
  {
   "cell_type": "code",
   "execution_count": null,
   "metadata": {},
   "outputs": [],
   "source": [
    "source_directory = \"/local_ssd/practical_wise24/prostate_cancer/NNUNet_Lesion/nnUNet_raw/Dataset600_Hum_AI/imagesTr\"\n",
    "destination_directory = \"/local_ssd/practical_wise24/prostate_cancer/NNUNetModel/nnUNet_raw_data_base/nnUNet_raw_data/Task005_Prostate/imagesTs\"\n",
    "json_file = \"/local_ssd/practical_wise24/prostate_cancer/NNUNetModel/nnUNet_raw_data_base/nnUNet_raw_data/Task005_Prostate/dataset.json\"\n",
    "copy_and_create_dataset_json(source_directory,destination_directory,json_file)"
   ]
  },
  {
   "cell_type": "markdown",
   "metadata": {},
   "source": [
    "Now you can run prostate gland segmentation model. \n",
    "\n",
    "Change working directory to /prostate-cancer-aggressiveness-prediction/src\n",
    "\n",
    "Then run sbatch run_prediction_nnunet.sh "
   ]
  }
 ],
 "metadata": {
  "kernelspec": {
   "display_name": "Python 3 (ipykernel)",
   "language": "python",
   "name": "python3"
  }
 },
 "nbformat": 4,
 "nbformat_minor": 2
}
