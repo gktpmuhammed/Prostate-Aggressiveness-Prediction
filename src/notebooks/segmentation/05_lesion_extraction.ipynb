{
 "cells": [
  {
   "cell_type": "markdown",
   "metadata": {},
   "source": [
    "# Lesion Extraction"
   ]
  },
  {
   "cell_type": "code",
   "execution_count": null,
   "metadata": {},
   "outputs": [],
   "source": [
    "import os\n",
    "import matplotlib.pyplot as plt\n",
    "import numpy as np\n",
    "import nibabel as nib\n",
    "from ipywidgets import interactive, widgets\n",
    "from IPython.display import display\n",
    "from pathlib import Path"
   ]
  },
  {
   "cell_type": "markdown",
   "metadata": {},
   "source": [
    "The slice where the lesion has the biggest area will be found and extracted with provided width, height and depth."
   ]
  },
  {
   "cell_type": "code",
   "execution_count": null,
   "metadata": {},
   "outputs": [],
   "source": [
    "def find_max_tumor_slice(mask_path):\n",
    "    mask_img = nib.load(mask_path)\n",
    "    mask_data = mask_img.get_fdata()\n",
    "    tumor_slices = [(slice_number, mask_data[:, :, slice_number].sum()) for slice_number in range(mask_data.shape[2])]\n",
    "    max_tumor_slice = max(tumor_slices, key=lambda x: x[1])\n",
    "    contain_mask = False\n",
    "    if max_tumor_slice[1] != 0:\n",
    "        contain_mask = True\n",
    "    return max_tumor_slice, mask_data, contain_mask\n",
    "\n",
    "def get_tumor_coordinates(mask_data, threshold=0):\n",
    "    tumor_coordinates = np.argwhere(mask_data > threshold)\n",
    "    min_coords = np.min(tumor_coordinates, axis=0)\n",
    "    max_coords = np.max(tumor_coordinates, axis=0)\n",
    "    return min_coords, max_coords\n",
    "\n",
    "def get_tumor_dimensions(min_coords, max_coords):\n",
    "    width = max_coords[0] - min_coords[0] + 1\n",
    "    height = max_coords[1] - min_coords[1] + 1\n",
    "    depth = max_coords[2] - min_coords[2] + 1\n",
    "    return width, height, depth\n",
    "\n",
    "def extract_tumor_region(original_path, mask_path, output_path, patient_number, width, height, depth, width_slack=0, height_slack=0):\n",
    "    \n",
    "    original_series_files = sorted(\n",
    "        [file for file in os.listdir(original_path) \n",
    "         if file.startswith(patient_number) and (file.endswith('0000.nii.gz') or file.endswith('0001.nii.gz') or file.endswith('0002.nii.gz'))]\n",
    "    )\n",
    "    all_files = os.listdir(original_path)\n",
    "    mask_file = [file for file in os.listdir(mask_path) if file.startswith(patient_number)]\n",
    "    mask_file_path = os.path.join(mask_path, mask_file[0])\n",
    "    mask = nib.load(mask_file_path)\n",
    "\n",
    "    # Get data arrays\n",
    "    mask_data = mask.get_fdata()\n",
    "\n",
    "    # Find the slice with the largest tumor region\n",
    "    tumor_slices = np.sum(mask_data, axis=(0, 1))\n",
    "    largest_slice = np.argmax(tumor_slices)\n",
    "\n",
    "    # Find the center of the tumor region in the largest slice\n",
    "    tumor_indices = np.argwhere(mask_data[:, :, largest_slice] > 0)\n",
    "    center = np.mean(tumor_indices, axis=0)\n",
    "    nan_mask = np.isnan(center)\n",
    "    if np.any(nan_mask):\n",
    "        return\n",
    "\n",
    "    start = max(0, (2*largest_slice - depth) // 2)\n",
    "    end = min(mask_data.shape[2], (2*largest_slice + depth) // 2)\n",
    "    if (2*largest_slice - depth) // 2 < 0:\n",
    "        start = 0\n",
    "        end = depth\n",
    "    \n",
    "    if (2*largest_slice + depth) // 2 > mask_data.shape[2]:\n",
    "        start = mask_data.shape[2] - depth\n",
    "        end = mask_data.shape[2]\n",
    "\n",
    "    h_s = center[0] - (height / 2 + height_slack)\n",
    "    h_e = center[0] + (height / 2 + height_slack)\n",
    "    w_s = center[1] - (width / 2 + width_slack)\n",
    "    w_e = center[1] + (width / 2 + width_slack)\n",
    "\n",
    "    if center[0] - (height / 2 + height_slack) < 0:\n",
    "        h_s = 0\n",
    "        h_e = height + height_slack\n",
    "    if center[0] + (height / 2 + height_slack) > mask_data.shape[0]:\n",
    "        h_s = mask_data.shape[0] - (height + height_slack)\n",
    "        h_e = mask_data.shape[0]\n",
    "    if center[1] - (width / 2 + width_slack) < 0:\n",
    "        w_s = 0\n",
    "        w_e = width + width_slack\n",
    "    if center[1] + (width / 2 + width_slack) > mask_data.shape[1]:\n",
    "        w_s = mask_data.shape[1] - (width + width_slack)\n",
    "        w_e = mask_data.shape[1]\n",
    "\n",
    "    # Extract the mask region based on the same coordinates\n",
    "    extracted_mask = mask_data[\n",
    "        int(h_s):int(h_e),\n",
    "        int(w_s):int(w_e),\n",
    "        start:end\n",
    "    ]\n",
    "\n",
    "    Path(os.path.join(output_path,f'{patient_number}')).mkdir(parents=True, exist_ok=True)\n",
    "    new_mask = nib.Nifti1Image(extracted_mask, mask.affine)\n",
    "    nib.save(new_mask, os.path.join(os.path.join(output_path, f'{patient_number}'), mask_file[0]))\n",
    "    \n",
    "    for file in original_series_files:\n",
    "        # Load NIfTI files\n",
    "        img = nib.load(os.path.join(original_path,file))\n",
    "        image_data = img.get_fdata()\n",
    "\n",
    "        # Extract the image region based on the provided width, height, and depth with slack\n",
    "        extracted_image = image_data[\n",
    "            int(h_s):int(h_e),\n",
    "            int(w_s):int(w_e),\n",
    "            start:end\n",
    "        ]\n",
    "        \n",
    "        # Set pixels in the original image to zero where the mask is black\n",
    "        modified_data = np.where(extracted_mask == 0, 0, extracted_image)\n",
    "\n",
    "        # Save the extracted regions to new NIfTI files\n",
    "        new_img = nib.Nifti1Image(modified_data, img.affine)\n",
    "        nib.save(new_img, os.path.join(os.path.join(output_path, f'{patient_number}'),file))"
   ]
  },
  {
   "cell_type": "code",
   "execution_count": null,
   "metadata": {},
   "outputs": [],
   "source": [
    "def extract_prostate(original_path, mask_path, output_path,width,height,depth):\n",
    "    global_max_tumor_region = None\n",
    "    \n",
    "    patients_with_mask = list()\n",
    "\n",
    "    for mask_filename in os.listdir(mask_path):\n",
    "        if mask_filename.endswith(\".nii.gz\"):\n",
    "            mask_file_path = os.path.join(mask_path, mask_filename)\n",
    "            max_tumor_slice, mask_data, contain_mask = find_max_tumor_slice(mask_file_path)\n",
    "\n",
    "            if contain_mask:\n",
    "                patients_with_mask.append(mask_filename[:-7])\n",
    "\n",
    "            if global_max_tumor_region is None or max_tumor_slice[1] > global_max_tumor_region[1]:\n",
    "                global_max_tumor_region = (mask_filename, max_tumor_slice[0], max_tumor_slice[1], mask_data)\n",
    "\n",
    "    # Get tumor coordinates in a bounding box\n",
    "    min_coords, max_coords = get_tumor_coordinates(global_max_tumor_region[3])\n",
    "\n",
    "    # Get tumor dimensions (width, height, depth)\n",
    "    p_width, p_height, p_depth = get_tumor_dimensions(min_coords, max_coords)\n",
    "\n",
    "    print(f\"The global maximum tumor region is in {global_max_tumor_region[0]} on slice {global_max_tumor_region[1]} with a tumor pixel sum of {global_max_tumor_region[2]}\")\n",
    "    print(f\"Tumor coordinates in bounding box: Min = {min_coords}, Max = {max_coords}\")\n",
    "    print(f\"Tumor dimensions: Width = {p_width}, Height = {p_height}, Depth = {p_depth}\")\n",
    "    print(f\"Total Number of patients with Tumor Mask: {len(patients_with_mask)}\")\n",
    "    \n",
    "    width_slack = 0\n",
    "    height_slack = 0   \n",
    "\n",
    "    directories = [d.split('_')[0] for d in patients_with_mask]\n",
    "     \n",
    "    for patient_number in directories:\n",
    "        extract_tumor_region(original_path, mask_path, output_path, patient_number, width, height, depth, width_slack, height_slack)\n",
    "        print(f\"Extraction of Patient {patient_number} completed.\")"
   ]
  },
  {
   "cell_type": "markdown",
   "metadata": {},
   "source": [
    "They will be converted to npy arrays for easy loading on classification part."
   ]
  },
  {
   "cell_type": "code",
   "execution_count": null,
   "metadata": {},
   "outputs": [],
   "source": [
    "def convert_numpy_format(original_path, output_directory):\n",
    "    \n",
    "    # Get a list of all directories in the directory\n",
    "    directories = [d for d in os.listdir(original_path) if os.path.isdir(os.path.join(original_path, d))]\n",
    "\n",
    "    # Iterate through all NIfTI files in the input directory\n",
    "    for patient_number in directories:\n",
    "        # Create the output directory if it doesn't exist\n",
    "        Path(os.path.join(output_directory,f'{patient_number}')).mkdir(parents=True, exist_ok=True)\n",
    "\n",
    "        for file_name in os.listdir(os.path.join(original_path,f'{patient_number}')):\n",
    "\n",
    "            if file_name.endswith('.nii.gz'):  # Ensure it's a NIfTI file\n",
    "                input_path = os.path.join(os.path.join(original_path,f'{patient_number}'), file_name)\n",
    "                # Load NIfTI image using nibabel\n",
    "                nifti_img = nib.load(input_path)\n",
    "\n",
    "                # Get the image data as a NumPy array\n",
    "                image_data = nifti_img.get_fdata()\n",
    "                name = os.path.splitext(os.path.splitext(file_name)[0])\n",
    "                # Save the NumPy array to a file with the same name\n",
    "                output_path = os.path.join(os.path.join(output_directory,f'{patient_number}'), f'{name[0]}.npy')\n",
    "                np.save(output_path, image_data)"
   ]
  },
  {
   "cell_type": "markdown",
   "metadata": {},
   "source": [
    "Tumor regions on picai dataset will be extracted with provided shape where depth is 8."
   ]
  },
  {
   "cell_type": "code",
   "execution_count": null,
   "metadata": {},
   "outputs": [],
   "source": [
    "original_path = '/local_ssd/practical_wise24/prostate_cancer/NNUNet_Lesion/nnUNet_raw/Dataset600_Hum_AI/imagesTr'\n",
    "mask_path = \"/local_ssd/practical_wise24/prostate_cancer/NNUNet_Lesion/nnUNet_raw/Dataset600_Hum_AI/labelsTr\"\n",
    "output_path = '/local_ssd/practical_wise24/prostate_cancer/NNUNet_Lesion/Picai_Extracted_Regions_AI'\n",
    "\n",
    "width = 60\n",
    "height = 60\n",
    "depth = 8\n",
    "\n",
    "print(\"Extraction Started\")\n",
    "extract_prostate(original_path, mask_path, output_path, width, height, depth)\n",
    "print(\"Extraction Completed\")"
   ]
  },
  {
   "cell_type": "code",
   "execution_count": null,
   "metadata": {},
   "outputs": [],
   "source": [
    "original_path = '/local_ssd/practical_wise24/prostate_cancer/NNUNet_Lesion/Picai_Extracted_Regions_AI'\n",
    "output_path = '/local_ssd/practical_wise24/prostate_cancer/NNUNet_Lesion/Picai_Extracted_Regions_AI_Numpy'\n",
    "convert_numpy_format(original_path, output_path)"
   ]
  },
  {
   "cell_type": "markdown",
   "metadata": {},
   "source": [
    "Tumor regions on picai dataset will be extracted with provided shape where depth is 3."
   ]
  },
  {
   "cell_type": "code",
   "execution_count": null,
   "metadata": {},
   "outputs": [],
   "source": [
    "original_path = '/local_ssd/practical_wise24/prostate_cancer/NNUNet_Lesion/nnUNet_raw/Dataset600_Hum_AI/imagesTr'\n",
    "mask_path = \"/local_ssd/practical_wise24/prostate_cancer/NNUNet_Lesion/nnUNet_raw/Dataset600_Hum_AI/labelsTr\"\n",
    "output_path = '/local_ssd/practical_wise24/prostate_cancer/NNUNet_Lesion/Picai_AI_Extracted_3_Slice'\n",
    "\n",
    "width = 60\n",
    "height = 60\n",
    "depth = 3\n",
    "\n",
    "print(\"Extraction Started\")\n",
    "extract_prostate(original_path, mask_path, output_path, width, height, depth)\n",
    "print(\"Extraction Completed\")"
   ]
  },
  {
   "cell_type": "code",
   "execution_count": null,
   "metadata": {},
   "outputs": [],
   "source": [
    "original_path = '/local_ssd/practical_wise24/prostate_cancer/NNUNet_Lesion/Picai_AI_Extracted_3_Slice'\n",
    "output_path = '/local_ssd/practical_wise24/prostate_cancer/NNUNet_Lesion/Picai_AI_Extracted_3_Slice_Numpy'\n",
    "convert_numpy_format(original_path, output_path)"
   ]
  },
  {
   "cell_type": "markdown",
   "metadata": {},
   "source": [
    "Tumor regions on private dataset that is not registered and not resized will be extracted with provided shape."
   ]
  },
  {
   "cell_type": "code",
   "execution_count": null,
   "metadata": {},
   "outputs": [],
   "source": [
    "original_path = '/local_ssd/practical_wise24/prostate_cancer/NNUNet_Lesion/Private_Dataset_Preprocessed/Private_Dataset/imagesTr'\n",
    "mask_path = \"/local_ssd/practical_wise24/prostate_cancer/NNUNet_Lesion/3d_fullres_Picai_Pipeline_Results_fold0\"\n",
    "output_path = '/local_ssd/practical_wise24/prostate_cancer/NNUNet_Lesion/Extracted_Tumor_Regions_Margin_Cropped'\n",
    "\n",
    "width = 99\n",
    "height = 92\n",
    "depth = 30\n",
    "\n",
    "print(\"Extraction Started\")\n",
    "extract_prostate(original_path, mask_path, output_path, width, height, depth)\n",
    "print(\"Extraction Completed\")"
   ]
  },
  {
   "cell_type": "code",
   "execution_count": null,
   "metadata": {},
   "outputs": [],
   "source": [
    "original_path = '/local_ssd/practical_wise24/prostate_cancer/NNUNet_Lesion/Extracted_Tumor_Regions_Margin_Cropped'\n",
    "output_path = '/local_ssd/practical_wise24/prostate_cancer/NNUNet_Lesion/Extracted_Tumor_Regions_Margin_Cropped_Numpy'\n",
    "convert_numpy_format(original_path, output_path)"
   ]
  },
  {
   "cell_type": "markdown",
   "metadata": {},
   "source": [
    "Tumor regions on private dataset that is not registered but resized will be extracted with provided shape."
   ]
  },
  {
   "cell_type": "code",
   "execution_count": null,
   "metadata": {},
   "outputs": [],
   "source": [
    "original_path = '/local_ssd/practical_wise24/prostate_cancer/NNUNet_Lesion/Private_Dataset_Preprocessed_2/Private_Dataset/imagesTr'\n",
    "mask_path = \"/local_ssd/practical_wise24/prostate_cancer/NNUNet_Lesion/Private_Dataset_Segmentation_Results\"\n",
    "output_path = '/local_ssd/practical_wise24/prostate_cancer/NNUNet_Lesion/Voxel_Results_Cropped'\n",
    "\n",
    "width = 60\n",
    "height = 60\n",
    "depth = 8\n",
    "\n",
    "print(\"Extraction Started\")\n",
    "extract_prostate(original_path, mask_path, output_path, width, height, depth)\n",
    "print(\"Extraction Completed\")"
   ]
  },
  {
   "cell_type": "code",
   "execution_count": null,
   "metadata": {},
   "outputs": [],
   "source": [
    "original_path = '/local_ssd/practical_wise24/prostate_cancer/NNUNet_Lesion/Voxel_Results_Cropped'\n",
    "output_path = '/local_ssd/practical_wise24/prostate_cancer/NNUNet_Lesion/Voxel_Results_Cropped_Numpy'\n",
    "convert_numpy_format(original_path, output_path)"
   ]
  }
 ],
 "metadata": {
  "kernelspec": {
   "display_name": "Python 3 (ipykernel)",
   "language": "python",
   "name": "python3"
  }
 },
 "nbformat": 4,
 "nbformat_minor": 2
}
