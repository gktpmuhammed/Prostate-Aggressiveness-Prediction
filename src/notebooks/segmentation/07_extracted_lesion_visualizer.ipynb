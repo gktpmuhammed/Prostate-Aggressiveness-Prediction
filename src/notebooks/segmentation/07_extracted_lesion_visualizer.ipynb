{
 "cells": [
  {
   "cell_type": "markdown",
   "metadata": {},
   "source": [
    "# Extracted Lesion Segmentation Visualizer"
   ]
  },
  {
   "cell_type": "code",
   "execution_count": null,
   "metadata": {},
   "outputs": [],
   "source": [
    "import os\n",
    "import matplotlib.pyplot as plt\n",
    "import numpy as np\n",
    "import nibabel as nib\n",
    "from ipywidgets import interactive, widgets\n",
    "from IPython.display import display"
   ]
  },
  {
   "cell_type": "code",
   "execution_count": null,
   "metadata": {},
   "outputs": [],
   "source": [
    "# Function to plot an image from a list at a specified index\n",
    "def plot_image(list_of_images, list_of_masks, image_idx, mask_transparency):\n",
    "    original_image = np.rot90(list_of_images[image_idx], k=3)\n",
    "    mask = np.rot90(list_of_masks[image_idx], k=3)\n",
    "\n",
    "    # Overlay the mask on the original image\n",
    "    masked_image = np.ma.masked_where(mask == 0, original_image)\n",
    "    \n",
    "    plt.imshow(original_image, cmap='gray')\n",
    "    plt.imshow(masked_image, cmap='jet', alpha=mask_transparency)  # Adjust alpha for transparency\n",
    "    plt.axis('off')  # Turn off axis numbers\n",
    "    plt.show()\n",
    "\n",
    "# Function to get a transparency scale widget\n",
    "def get_transparency_scale():\n",
    "    return widgets.FloatSlider(\n",
    "        value=0.5,\n",
    "        min=0,\n",
    "        max=1,\n",
    "        step=0.1,\n",
    "        description='Mask Transparency:',\n",
    "        continuous_update=False\n",
    "    )\n",
    "\n",
    "# Function to get a slider widget\n",
    "def get_slider(max_value):\n",
    "    return widgets.IntSlider(\n",
    "        value=0,\n",
    "        min=0,\n",
    "        max=max_value,\n",
    "        step=1,\n",
    "        description='Image Index:',\n",
    "        continuous_update=False\n",
    "    )\n",
    "\n",
    "# Wrapper function to create an interactive plot with a list of images\n",
    "def create_interactive_plot(list_of_images, list_of_masks, title):\n",
    "    slider = get_slider(len(list_of_images) - 1)\n",
    "    transparency_scale = get_transparency_scale()\n",
    "    interactive_plot = interactive(plot_image, list_of_images=widgets.fixed(list_of_images), list_of_masks=widgets.fixed(list_of_masks), \n",
    "                                    mask_transparency=transparency_scale, image_idx=slider)\n",
    "    # Display the title as a text above the plot\n",
    "    display(widgets.Label(value=f'\\n{title}', style={'description_width': 'initial'}))\n",
    "    display(interactive_plot)\n",
    "\n",
    "def plot_interactive_plot(original_path, mask_path, patient_number):\n",
    "    original_series_files = sorted(\n",
    "        [file for file in os.listdir(os.path.join(original_path, f'{patient_number}')) \n",
    "         if file.endswith('0000.nii.gz') or file.endswith('0001.nii.gz') or file.endswith('0002.nii.gz') ]\n",
    "    )\n",
    "    all_files = os.listdir(os.path.join(original_path, f'{patient_number}'))\n",
    "    mask_file = list(set(all_files) - set(original_series_files))\n",
    "    common_mask_file = os.path.join(mask_path, f'{patient_number}',mask_file[0])\n",
    "\n",
    "    # Load the common mask file\n",
    "    common_mask_image = nib.load(common_mask_file).get_fdata()\n",
    "\n",
    "    for original_file in original_series_files:\n",
    "        original_file_path = os.path.join(original_path, f'{patient_number}', original_file)\n",
    "\n",
    "        original_image = nib.load(original_file_path).get_fdata()\n",
    "        original_images_to_slide_over = [original_image[:, :, i] for i in range(original_image.shape[2])]\n",
    "\n",
    "        # Use the common mask for all original images\n",
    "        mask_images_to_slide_over = [common_mask_image[:, :, i] for i in range(common_mask_image.shape[2])]\n",
    "\n",
    "        # Get the series name from the original file (you may need to adjust this depending on your file naming convention)\n",
    "        series_name = os.path.splitext(original_file)[0]\n",
    "\n",
    "        create_interactive_plot(original_images_to_slide_over, mask_images_to_slide_over, series_name)\n"
   ]
  },
  {
   "cell_type": "markdown",
   "metadata": {},
   "source": [
    "For private data visualization."
   ]
  },
  {
   "cell_type": "code",
   "execution_count": null,
   "metadata": {},
   "outputs": [],
   "source": [
    "patient = \"154\"\n",
    "original_path = f'/local_ssd/practical_wise24/prostate_cancer/NNUNet_Lesion/Private_Extracted_1_Slice'\n",
    "mask_path = f'/local_ssd/practical_wise24/prostate_cancer/NNUNet_Lesion/Private_Extracted_1_Slice'\n",
    "plot_interactive_plot(original_path, mask_path, patient)"
   ]
  },
  {
   "cell_type": "markdown",
   "metadata": {},
   "source": [
    "For Picai data visualization."
   ]
  },
  {
   "cell_type": "code",
   "execution_count": null,
   "metadata": {},
   "outputs": [],
   "source": [
    "patient = \"10005\"\n",
    "original_path = f'/local_ssd/practical_wise24/prostate_cancer/NNUNet_Lesion/Picai_All_Extracted_3_Slice'\n",
    "mask_path = f'/local_ssd/practical_wise24/prostate_cancer/NNUNet_Lesion/Picai_All_Extracted_3_Slice'\n",
    "plot_interactive_plot(original_path, mask_path, patient)"
   ]
  }
 ],
 "metadata": {
  "kernelspec": {
   "display_name": "Python 3 (ipykernel)",
   "language": "python",
   "name": "python3"
  }
 },
 "nbformat": 4,
 "nbformat_minor": 2
}
