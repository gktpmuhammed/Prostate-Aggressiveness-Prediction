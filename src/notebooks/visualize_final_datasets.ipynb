{
 "cells": [
  {
   "cell_type": "code",
   "execution_count": null,
   "metadata": {},
   "outputs": [],
   "source": [
    "import os\n",
    "import pandas as pd\n",
    "import matplotlib.pyplot as plt\n",
    "import numpy as np\n",
    "from ipywidgets import interactive, widgets, Layout, HBox, VBox, Label, interact, fixed\n",
    "from IPython.display import display, clear_output\n",
    "import itk\n",
    "import SimpleITK as sitk"
   ]
  },
  {
   "cell_type": "code",
   "execution_count": null,
   "metadata": {},
   "outputs": [],
   "source": [
    "# Callback invoked by the interact IPython method for scrolling through the image stacks of\n",
    "# the two images (moving and fixed).\n",
    "def display_images(fixed_image_z, moving_image_z, fixed_npa, moving_npa):\n",
    "    # Create a figure with two subplots and the specified size.\n",
    "    plt.subplots(1,2,figsize=(4,3))\n",
    "    \n",
    "    # Draw the fixed image in the first subplot.\n",
    "    plt.subplot(1,2,1)\n",
    "    plt.imshow(fixed_npa[:,:,fixed_image_z],cmap=plt.cm.Greys_r);\n",
    "    plt.title('image1')\n",
    "    plt.axis('off')\n",
    "    \n",
    "    # Draw the moving image in the second subplot.\n",
    "    plt.subplot(1,2,2)\n",
    "    plt.imshow(moving_npa[:,:,moving_image_z],cmap=plt.cm.Greys_r);\n",
    "    plt.title('image2')\n",
    "    plt.axis('off')\n",
    "    \n",
    "    plt.show()"
   ]
  },
  {
   "cell_type": "code",
   "execution_count": null,
   "metadata": {},
   "outputs": [],
   "source": [
    "t2w =  np.load(\"../../data/NNUNetModel/registered_picai_dataset/Extracted_Tumor_Regions_Margin_Cropped_Numpy/10005/10005_1000005_t2w.npy\")\n",
    "adc =  np.load(\"../../data/NNUNetModel/registered_picai_dataset/Extracted_Tumor_Regions_Margin_Cropped_Numpy/10005/10005_1000005_adc.npy\")"
   ]
  },
  {
   "cell_type": "code",
   "execution_count": null,
   "metadata": {},
   "outputs": [],
   "source": [
    "t2w = np.load('../../data/NNUNetModel/Clean_Dataset/Extracted_Tumor_Regions_Margin_Cropped_Numpy/BREST_001/prostate_001_ADC.npy')\n"
   ]
  },
  {
   "cell_type": "code",
   "execution_count": null,
   "metadata": {},
   "outputs": [],
   "source": [
    "t2w.shape\n"
   ]
  },
  {
   "cell_type": "code",
   "execution_count": null,
   "metadata": {},
   "outputs": [],
   "source": [
    "interact(display_images, fixed_image_z=(0,t2w.shape[2] - 1), moving_image_z=(0,adc.shape[2] - 1), fixed_npa = fixed(t2w), moving_npa=fixed(adc));"
   ]
  }
 ],
 "metadata": {
  "kernelspec": {
   "display_name": "ProstateCancer",
   "language": "python",
   "name": "python3"
  },
  "language_info": {
   "codemirror_mode": {
    "name": "ipython",
    "version": 3
   },
   "file_extension": ".py",
   "mimetype": "text/x-python",
   "name": "python",
   "nbconvert_exporter": "python",
   "pygments_lexer": "ipython3",
   "version": "3.11.5"
  }
 },
 "nbformat": 4,
 "nbformat_minor": 2
}
