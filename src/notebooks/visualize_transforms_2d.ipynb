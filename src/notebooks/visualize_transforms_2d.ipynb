{
 "cells": [
  {
   "cell_type": "markdown",
   "metadata": {},
   "source": [
    "# Visualize preprocessing and data augmentation transformations"
   ]
  },
  {
   "cell_type": "code",
   "execution_count": null,
   "metadata": {},
   "outputs": [],
   "source": [
    "# manage imports\n",
    "from torchvision import transforms\n",
    "import torchio as tio\n",
    "import sys\n",
    "import os\n",
    "import matplotlib.pyplot as plt\n",
    "import numpy as np\n",
    "\n",
    "# add ProstateCancer src directory to sys.path and import dataset\n",
    "parent_dir = os.path.abspath(os.path.join(os.getcwd(), '..'))\n",
    "sys.path.insert(0, parent_dir)\n",
    "from dataset.Dataset import OneSliceDataset, TranformedMaskedDataset\n",
    "from dataset.PICAITumor3DMultimodality import PICAI3DMultimodality"
   ]
  },
  {
   "cell_type": "markdown",
   "metadata": {},
   "source": [
    "### Data Preprocessing Transformations\n",
    "Data preprocessing transformations are applied to the training and test set"
   ]
  },
  {
   "cell_type": "code",
   "execution_count": null,
   "metadata": {},
   "outputs": [],
   "source": [
    "transform = tio.RescaleIntensity(out_min_max=(0, 1), percentiles=(0, 99.5))"
   ]
  },
  {
   "cell_type": "markdown",
   "metadata": {},
   "source": [
    "# Visualize One Slice Dataset\n",
    "\n",
    "Run only one of the following cells (depending on which dataset you want to use)"
   ]
  },
  {
   "cell_type": "code",
   "execution_count": null,
   "metadata": {},
   "outputs": [],
   "source": [
    "# PRIVATE_1_SLICE\n",
    "modalities = \"t2w+adc+pet+mask\"\n",
    "dataset = OneSliceDataset(root_dir=\"../../data\", modality_transform=transform)\n",
    "img_id = 3\n",
    "img = dataset[img_id][\"image\"]\n",
    "print(\"Dataset Dimensions:\", img.shape)"
   ]
  },
  {
   "cell_type": "code",
   "execution_count": null,
   "metadata": {},
   "outputs": [],
   "source": [
    "# PICAI_1_SLICE\n",
    "modalities = \"t2w+adc+dwi+mask\"\n",
    "dataset = PICAI3DMultimodality(root_dir=\"../../data\", version=\"NNUNet_Lesion/Picai_Extracted_1_Slice_Numpy\", include_mask=True, modality_transform=transform)\n",
    "img = dataset[20][\"image\"]\n",
    "img_id = 3\n",
    "print(\"Dataset Dimensions:\", img.shape)"
   ]
  },
  {
   "cell_type": "code",
   "execution_count": null,
   "metadata": {},
   "outputs": [],
   "source": [
    "num_channels = img.shape[0]\n",
    "\n",
    "def plot_slice():\n",
    "\n",
    "    plt.figure(figsize=(15, 5))\n",
    "\n",
    "    for channel in range(num_channels):\n",
    "        slice_img = img[channel,0,:,:]\n",
    "        plt.subplot(1, num_channels, channel + 1)  # Rows, columns, index\n",
    "        plt.imshow(slice_img, cmap=plt.cm.Greys_r)\n",
    "        plt.title(f'{modalities.split(\"+\")[channel].upper()} input')\n",
    "        #plt.axis('off')\n",
    "\n",
    "    # Set a title for all plots together\n",
    "    #plt.suptitle(f'Slice {slice_number}', fontsize=16)\n",
    "\n",
    "    plt.show()\n",
    "\n",
    "plot_slice()"
   ]
  },
  {
   "cell_type": "code",
   "execution_count": null,
   "metadata": {},
   "outputs": [],
   "source": [
    "# Plot intensity values (without 0s)\n",
    "\n",
    "for v in range(img.shape[0]):\n",
    "    print(\"Intensity distribution for slice\", v)\n",
    "    # normalize the intensity of each volume\n",
    "    intensity_values = img[v].flatten()\n",
    "\n",
    "    min_int = min(intensity_values)\n",
    "    intensity_values = intensity_values[intensity_values != min_int] # comment this line out if you want to include zeros\n",
    "\n",
    "    plt.hist(intensity_values, bins=200, color='black')\n",
    "    plt.title('Intensity Distribution')\n",
    "    plt.xlabel('Intensity')\n",
    "    plt.ylabel('Frequency')\n",
    "    plt.show()"
   ]
  },
  {
   "cell_type": "markdown",
   "metadata": {},
   "source": [
    "# Data Augmentation Transformations\n",
    "Data augmentation transformations are only applied to the training set"
   ]
  },
  {
   "cell_type": "code",
   "execution_count": null,
   "metadata": {},
   "outputs": [],
   "source": [
    "# for 2d datsets\n",
    "\n",
    "# for all channels\n",
    "displacement_transform = tio.Compose([\n",
    "    tio.RandomFlip(axes=(0,)),  # equivalent to horizontal flip; axes can be adjusted for 3D\n",
    "    tio.RandomAffine(scales=(0.9, 1.1), degrees=(-7, 7, 0, 0, 0, 0)),  # for rotation and scaling\n",
    "])\n",
    "\n",
    "# for non-mask channels\n",
    "non_masked_transform = tio.Compose([\n",
    "    tio.RandomGamma(log_gamma=(-0.3,0.3)), # contrast\n",
    "    tio.RandomBlur(std=(0, 0.05)),  # for Gaussian blurring\n",
    "    tio.RandomNoise(mean=0, std=(0, 0.05)), # for Gaussian noise\n",
    "    #tio.RandomBiasField(coefficients=(0, 0.1))\n",
    "])\n",
    "\n",
    "transformed_dataset = TranformedMaskedDataset(dataset, displacement_transform, non_masked_transform)"
   ]
  },
  {
   "cell_type": "code",
   "execution_count": null,
   "metadata": {},
   "outputs": [],
   "source": [
    "# show transformed images\n",
    "\n",
    "def plot_transformed_slice():\n",
    "\n",
    "    fig, axes = plt.subplots(4, num_channels, figsize=(12, 12))\n",
    "    axes = axes.ravel()\n",
    "\n",
    "    # generate images and plot them\n",
    "    i = 0\n",
    "    for x in range(4):\n",
    "        timg = transformed_dataset[img_id][\"image\"]\n",
    "        for channel in range(num_channels):\n",
    "            tslice10 = timg[channel,0,:,:]\n",
    "            axes[i].imshow(tslice10, cmap=plt.cm.Greys_r)\n",
    "            axes[i].axis('off')\n",
    "            i+=1\n",
    "\n",
    "    plt.tight_layout()\n",
    "    plt.show()\n",
    "\n",
    "plot_transformed_slice()"
   ]
  }
 ],
 "metadata": {
  "kernelspec": {
   "display_name": "ProstateCancer",
   "language": "python",
   "name": "python3"
  },
  "language_info": {
   "codemirror_mode": {
    "name": "ipython",
    "version": 3
   },
   "file_extension": ".py",
   "mimetype": "text/x-python",
   "name": "python",
   "nbconvert_exporter": "python",
   "pygments_lexer": "ipython3",
   "version": "3.11.5"
  },
  "orig_nbformat": 4
 },
 "nbformat": 4,
 "nbformat_minor": 2
}
