{
 "cells": [
  {
   "cell_type": "markdown",
   "metadata": {},
   "source": [
    "# Visualize preprocessing and data augmentation transformations"
   ]
  },
  {
   "cell_type": "code",
   "execution_count": null,
   "metadata": {},
   "outputs": [],
   "source": [
    "# manage imports\n",
    "from torchvision import transforms\n",
    "import torchio as tio\n",
    "import sys\n",
    "import os\n",
    "import matplotlib.pyplot as plt\n",
    "import numpy as np\n",
    "\n",
    "# add ProstateCancer src directory to sys.path and import dataset\n",
    "parent_dir = os.path.abspath(os.path.join(os.getcwd(), '..'))\n",
    "sys.path.insert(0, parent_dir)\n",
    "from dataset.Dataset import ProstateDataset, TransformedDataset, OneSliceDataset, TumorOnlyDataset\n",
    "from dataset.PICAITumor3DMultimodality import PICAITumor3DMultimodality"
   ]
  },
  {
   "cell_type": "markdown",
   "metadata": {},
   "source": [
    "### Data Preprocessing Transformations\n",
    "Data preprocessing transformations are applied to the training and test set"
   ]
  },
  {
   "cell_type": "code",
   "execution_count": null,
   "metadata": {},
   "outputs": [],
   "source": [
    "transform = tio.ZNormalization(masking_method=lambda x: x > 0)"
   ]
  },
  {
   "cell_type": "markdown",
   "metadata": {},
   "source": [
    "# Choose Dataset and Slice\n",
    "\n",
    "Run only one of the following cells (depending on which dataset you want to use)"
   ]
  },
  {
   "cell_type": "code",
   "execution_count": null,
   "metadata": {},
   "outputs": [],
   "source": [
    "# PRIVATE_PROSTATE\n",
    "modalities = \"t2w+adc+pet\"\n",
    "dataset = ProstateDataset(root_dir=\"../../data\", modalities=modalities, modality_transform=transform, include_pca_segmentations=True)\n",
    "modalities = modalities + \"+mask\"\n",
    "img = dataset[30][\"image\"]\n",
    "print(\"Dataset Dimensions:\", img.shape)"
   ]
  },
  {
   "cell_type": "code",
   "execution_count": null,
   "metadata": {},
   "outputs": [],
   "source": [
    "# PICAI_3_SLICE\n",
    "modalities = \"t2w+adc+diff\"\n",
    "dataset = PICAITumor3DMultimodality(root_dir=\"../../data\", version=\"NNUNet_Lesion/Picai_AI_Extracted_3_Slice_Numpy\", modality_transform=transform)\n",
    "img = dataset[29][\"image\"]\n",
    "print(\"Dataset Dimensions:\", img.shape)"
   ]
  },
  {
   "cell_type": "code",
   "execution_count": null,
   "metadata": {},
   "outputs": [],
   "source": [
    "# PICAI_ONLY_TUMOR\n",
    "modalities = \"t2w+adc+pet\"\n",
    "dataset = TumorPicaiDataset(root_dir=\"../../data\", modality_transform=transform)\n",
    "img = dataset[30][\"image\"]\n",
    "print(\"Dataset Dimensions:\", img.shape)"
   ]
  },
  {
   "cell_type": "code",
   "execution_count": null,
   "metadata": {},
   "outputs": [],
   "source": [
    "# PRIVATE_ONLY_TUMOR\n",
    "modalities = \"t2w+adc+pet+mask\"\n",
    "dataset = TumorOnlyDataset(root_dir=\"../../data\", modality_transform=transform)\n",
    "img = dataset[0][\"image\"]\n",
    "print(\"Dataset Dimensions:\", img.shape)"
   ]
  },
  {
   "cell_type": "markdown",
   "metadata": {},
   "source": [
    "# Visualize slice"
   ]
  },
  {
   "cell_type": "code",
   "execution_count": null,
   "metadata": {},
   "outputs": [],
   "source": [
    "num_channels = img.shape[0]\n",
    "slices = img.shape[1]\n",
    "\n",
    "def plot_slice(slice):\n",
    "\n",
    "    plt.figure(figsize=(15, 5))\n",
    "\n",
    "    for channel in range(num_channels):\n",
    "        slice_img = img[channel,slice,:,:]\n",
    "        plt.subplot(1, num_channels, channel + 1)  # Rows, columns, index\n",
    "        plt.imshow(slice_img, cmap=plt.cm.Greys_r)\n",
    "        plt.title(f'{modalities.split(\"+\")[channel].upper()} input')\n",
    "        #plt.axis('off')\n",
    "\n",
    "    # Set a title for all plots together\n",
    "    #plt.suptitle(f'Slice {slice_number}', fontsize=16)\n",
    "\n",
    "    plt.show()"
   ]
  },
  {
   "cell_type": "code",
   "execution_count": null,
   "metadata": {},
   "outputs": [],
   "source": [
    "# Interactive Slider\n",
    "from ipywidgets import interact\n",
    "\n",
    "interact(plot_slice, slice=(0, slices - 1))"
   ]
  },
  {
   "cell_type": "code",
   "execution_count": null,
   "metadata": {},
   "outputs": [],
   "source": [
    "# Plot intensity values\n",
    "\n",
    "for v in range(img.shape[0]):\n",
    "    print(\"Intensity distribution for slice\", v)\n",
    "    # normalize the intensity of each volume\n",
    "    intensity_values = img[v].flatten()\n",
    "\n",
    "    min_int = min(intensity_values)\n",
    "    intensity_values_filtered = intensity_values[intensity_values != min_int]\n",
    "\n",
    "    plt.hist(intensity_values_filtered, bins=200, color='black')\n",
    "    plt.title('Intensity Distribution')\n",
    "    plt.xlabel('Intensity')\n",
    "    plt.ylabel('Frequency')\n",
    "    plt.show()"
   ]
  },
  {
   "cell_type": "markdown",
   "metadata": {},
   "source": [
    "# 3D Data Augmentation Transformations\n",
    "Data augmentation transformations are only applied to the training set"
   ]
  },
  {
   "cell_type": "code",
   "execution_count": null,
   "metadata": {},
   "outputs": [],
   "source": [
    "# Select the trasformations that you'd like to visualize\n",
    "\n",
    "train_transform = tio.Compose([\n",
    "    tio.RandomFlip(axes=(0,)),  # equivalent to horizontal flip; axes can be adjusted for 3D\n",
    "    #tio.RandomAffine(scales=(0.9, 1.1), degrees=15),  # for rotation and scaling\n",
    "    tio.RandomElasticDeformation(max_displacement=0.2),\n",
    "    tio.RandomGamma(log_gamma=(-0.3,0.3)), # contrast\n",
    "    tio.RandomBlur(std=(0, 0.05)),  # for Gaussian blurring\n",
    "    #tio.RandomNoise(mean=0, std=(0, 0.03)), # for Gaussian noise\n",
    "    #tio.RandomBiasField(coefficients=(0, 0.2))\n",
    "])"
   ]
  },
  {
   "cell_type": "code",
   "execution_count": null,
   "metadata": {},
   "outputs": [],
   "source": [
    "# show transformed images\n",
    "\n",
    "def plot_transformed_slice(slice):\n",
    "\n",
    "    fig, axes = plt.subplots(4, num_channels, figsize=(12, 12))\n",
    "    axes = axes.ravel()\n",
    "\n",
    "    # generate images and plot them\n",
    "    i = 0\n",
    "    for x in range(4):\n",
    "        timg = train_transform(img)\n",
    "        for channel in range(num_channels):\n",
    "            tslice10 = timg[channel,slice,:,:]\n",
    "            axes[i].imshow(tslice10, cmap=plt.cm.Greys_r)\n",
    "            axes[i].axis('off')\n",
    "            i+=1\n",
    "\n",
    "    plt.tight_layout()\n",
    "    plt.show()\n",
    "\n",
    "interact(plot_transformed_slice, slice=(0, slices - 1))"
   ]
  }
 ],
 "metadata": {
  "kernelspec": {
   "display_name": "ProstateCancer",
   "language": "python",
   "name": "python3"
  },
  "language_info": {
   "codemirror_mode": {
    "name": "ipython",
    "version": 3
   },
   "file_extension": ".py",
   "mimetype": "text/x-python",
   "name": "python",
   "nbconvert_exporter": "python",
   "pygments_lexer": "ipython3",
   "version": "3.11.5"
  },
  "orig_nbformat": 4
 },
 "nbformat": 4,
 "nbformat_minor": 2
}
